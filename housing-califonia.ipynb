{
 "cells": [
  {
   "cell_type": "code",
   "execution_count": 1,
   "id": "77e31cf4",
   "metadata": {
    "execution": {
     "iopub.execute_input": "2023-01-25T00:23:02.057222Z",
     "iopub.status.busy": "2023-01-25T00:23:02.056762Z",
     "iopub.status.idle": "2023-01-25T00:23:02.068234Z",
     "shell.execute_reply": "2023-01-25T00:23:02.067285Z"
    },
    "papermill": {
     "duration": 0.037838,
     "end_time": "2023-01-25T00:23:02.070937",
     "exception": false,
     "start_time": "2023-01-25T00:23:02.033099",
     "status": "completed"
    },
    "tags": []
   },
   "outputs": [],
   "source": [
    "import pandas as pd\n"
   ]
  },
  {
   "cell_type": "code",
   "execution_count": 2,
   "id": "9ab467af",
   "metadata": {
    "execution": {
     "iopub.execute_input": "2023-01-25T00:23:02.112274Z",
     "iopub.status.busy": "2023-01-25T00:23:02.111031Z",
     "iopub.status.idle": "2023-01-25T00:23:02.376162Z",
     "shell.execute_reply": "2023-01-25T00:23:02.374907Z"
    },
    "papermill": {
     "duration": 0.288435,
     "end_time": "2023-01-25T00:23:02.378816",
     "exception": false,
     "start_time": "2023-01-25T00:23:02.090381",
     "status": "completed"
    },
    "tags": []
   },
   "outputs": [],
   "source": [
    "df1=pd.read_csv('/kaggle/input/traindata/train.csv')\n",
    "df2=pd.read_csv('/kaggle/input/testdata/test.csv')\n",
    "df3=pd.read_csv('/kaggle/input/samplesubmission/sample_submission.csv')"
   ]
  },
  {
   "cell_type": "markdown",
   "id": "31c2c171",
   "metadata": {
    "papermill": {
     "duration": 0.020372,
     "end_time": "2023-01-25T00:23:02.420075",
     "exception": false,
     "start_time": "2023-01-25T00:23:02.399703",
     "status": "completed"
    },
    "tags": []
   },
   "source": [
    "**DataFrame Train**"
   ]
  },
  {
   "cell_type": "markdown",
   "id": "c2040f88",
   "metadata": {
    "papermill": {
     "duration": 0.019665,
     "end_time": "2023-01-25T00:23:02.461282",
     "exception": false,
     "start_time": "2023-01-25T00:23:02.441617",
     "status": "completed"
    },
    "tags": []
   },
   "source": [
    "- Check the first 5 values"
   ]
  },
  {
   "cell_type": "code",
   "execution_count": 3,
   "id": "72917ed0",
   "metadata": {
    "execution": {
     "iopub.execute_input": "2023-01-25T00:23:02.503436Z",
     "iopub.status.busy": "2023-01-25T00:23:02.502660Z",
     "iopub.status.idle": "2023-01-25T00:23:02.532887Z",
     "shell.execute_reply": "2023-01-25T00:23:02.530641Z"
    },
    "papermill": {
     "duration": 0.05588,
     "end_time": "2023-01-25T00:23:02.536979",
     "exception": false,
     "start_time": "2023-01-25T00:23:02.481099",
     "status": "completed"
    },
    "tags": []
   },
   "outputs": [
    {
     "data": {
      "text/html": [
       "<div>\n",
       "<style scoped>\n",
       "    .dataframe tbody tr th:only-of-type {\n",
       "        vertical-align: middle;\n",
       "    }\n",
       "\n",
       "    .dataframe tbody tr th {\n",
       "        vertical-align: top;\n",
       "    }\n",
       "\n",
       "    .dataframe thead th {\n",
       "        text-align: right;\n",
       "    }\n",
       "</style>\n",
       "<table border=\"1\" class=\"dataframe\">\n",
       "  <thead>\n",
       "    <tr style=\"text-align: right;\">\n",
       "      <th></th>\n",
       "      <th>id</th>\n",
       "      <th>MedInc</th>\n",
       "      <th>HouseAge</th>\n",
       "      <th>AveRooms</th>\n",
       "      <th>AveBedrms</th>\n",
       "      <th>Population</th>\n",
       "      <th>AveOccup</th>\n",
       "      <th>Latitude</th>\n",
       "      <th>Longitude</th>\n",
       "      <th>MedHouseVal</th>\n",
       "    </tr>\n",
       "  </thead>\n",
       "  <tbody>\n",
       "    <tr>\n",
       "      <th>0</th>\n",
       "      <td>0</td>\n",
       "      <td>2.3859</td>\n",
       "      <td>15.0</td>\n",
       "      <td>3.827160</td>\n",
       "      <td>1.112100</td>\n",
       "      <td>1280.0</td>\n",
       "      <td>2.486989</td>\n",
       "      <td>34.60</td>\n",
       "      <td>-120.12</td>\n",
       "      <td>0.980</td>\n",
       "    </tr>\n",
       "    <tr>\n",
       "      <th>1</th>\n",
       "      <td>1</td>\n",
       "      <td>3.7188</td>\n",
       "      <td>17.0</td>\n",
       "      <td>6.013373</td>\n",
       "      <td>1.054217</td>\n",
       "      <td>1504.0</td>\n",
       "      <td>3.813084</td>\n",
       "      <td>38.69</td>\n",
       "      <td>-121.22</td>\n",
       "      <td>0.946</td>\n",
       "    </tr>\n",
       "    <tr>\n",
       "      <th>2</th>\n",
       "      <td>2</td>\n",
       "      <td>4.7750</td>\n",
       "      <td>27.0</td>\n",
       "      <td>6.535604</td>\n",
       "      <td>1.103175</td>\n",
       "      <td>1061.0</td>\n",
       "      <td>2.464602</td>\n",
       "      <td>34.71</td>\n",
       "      <td>-120.45</td>\n",
       "      <td>1.576</td>\n",
       "    </tr>\n",
       "    <tr>\n",
       "      <th>3</th>\n",
       "      <td>3</td>\n",
       "      <td>2.4138</td>\n",
       "      <td>16.0</td>\n",
       "      <td>3.350203</td>\n",
       "      <td>0.965432</td>\n",
       "      <td>1255.0</td>\n",
       "      <td>2.089286</td>\n",
       "      <td>32.66</td>\n",
       "      <td>-117.09</td>\n",
       "      <td>1.336</td>\n",
       "    </tr>\n",
       "    <tr>\n",
       "      <th>4</th>\n",
       "      <td>4</td>\n",
       "      <td>3.7500</td>\n",
       "      <td>52.0</td>\n",
       "      <td>4.284404</td>\n",
       "      <td>1.069246</td>\n",
       "      <td>1793.0</td>\n",
       "      <td>1.604790</td>\n",
       "      <td>37.80</td>\n",
       "      <td>-122.41</td>\n",
       "      <td>4.500</td>\n",
       "    </tr>\n",
       "  </tbody>\n",
       "</table>\n",
       "</div>"
      ],
      "text/plain": [
       "   id  MedInc  HouseAge  AveRooms  AveBedrms  Population  AveOccup  Latitude  \\\n",
       "0   0  2.3859      15.0  3.827160   1.112100      1280.0  2.486989     34.60   \n",
       "1   1  3.7188      17.0  6.013373   1.054217      1504.0  3.813084     38.69   \n",
       "2   2  4.7750      27.0  6.535604   1.103175      1061.0  2.464602     34.71   \n",
       "3   3  2.4138      16.0  3.350203   0.965432      1255.0  2.089286     32.66   \n",
       "4   4  3.7500      52.0  4.284404   1.069246      1793.0  1.604790     37.80   \n",
       "\n",
       "   Longitude  MedHouseVal  \n",
       "0    -120.12        0.980  \n",
       "1    -121.22        0.946  \n",
       "2    -120.45        1.576  \n",
       "3    -117.09        1.336  \n",
       "4    -122.41        4.500  "
      ]
     },
     "execution_count": 3,
     "metadata": {},
     "output_type": "execute_result"
    }
   ],
   "source": [
    "\n",
    "df1.head(5)"
   ]
  },
  {
   "cell_type": "markdown",
   "id": "aab568f8",
   "metadata": {
    "papermill": {
     "duration": 0.019972,
     "end_time": "2023-01-25T00:23:02.578100",
     "exception": false,
     "start_time": "2023-01-25T00:23:02.558128",
     "status": "completed"
    },
    "tags": []
   },
   "source": [
    "- Check the last 5 values"
   ]
  },
  {
   "cell_type": "code",
   "execution_count": 4,
   "id": "bbc3c87a",
   "metadata": {
    "execution": {
     "iopub.execute_input": "2023-01-25T00:23:02.620931Z",
     "iopub.status.busy": "2023-01-25T00:23:02.620454Z",
     "iopub.status.idle": "2023-01-25T00:23:02.639493Z",
     "shell.execute_reply": "2023-01-25T00:23:02.638054Z"
    },
    "papermill": {
     "duration": 0.044212,
     "end_time": "2023-01-25T00:23:02.642258",
     "exception": false,
     "start_time": "2023-01-25T00:23:02.598046",
     "status": "completed"
    },
    "tags": []
   },
   "outputs": [
    {
     "data": {
      "text/html": [
       "<div>\n",
       "<style scoped>\n",
       "    .dataframe tbody tr th:only-of-type {\n",
       "        vertical-align: middle;\n",
       "    }\n",
       "\n",
       "    .dataframe tbody tr th {\n",
       "        vertical-align: top;\n",
       "    }\n",
       "\n",
       "    .dataframe thead th {\n",
       "        text-align: right;\n",
       "    }\n",
       "</style>\n",
       "<table border=\"1\" class=\"dataframe\">\n",
       "  <thead>\n",
       "    <tr style=\"text-align: right;\">\n",
       "      <th></th>\n",
       "      <th>id</th>\n",
       "      <th>MedInc</th>\n",
       "      <th>HouseAge</th>\n",
       "      <th>AveRooms</th>\n",
       "      <th>AveBedrms</th>\n",
       "      <th>Population</th>\n",
       "      <th>AveOccup</th>\n",
       "      <th>Latitude</th>\n",
       "      <th>Longitude</th>\n",
       "      <th>MedHouseVal</th>\n",
       "    </tr>\n",
       "  </thead>\n",
       "  <tbody>\n",
       "    <tr>\n",
       "      <th>37132</th>\n",
       "      <td>37132</td>\n",
       "      <td>3.3438</td>\n",
       "      <td>50.0</td>\n",
       "      <td>4.936508</td>\n",
       "      <td>1.079365</td>\n",
       "      <td>1775.0</td>\n",
       "      <td>3.022222</td>\n",
       "      <td>34.19</td>\n",
       "      <td>-118.36</td>\n",
       "      <td>1.856</td>\n",
       "    </tr>\n",
       "    <tr>\n",
       "      <th>37133</th>\n",
       "      <td>37133</td>\n",
       "      <td>3.7308</td>\n",
       "      <td>26.0</td>\n",
       "      <td>5.087533</td>\n",
       "      <td>0.966019</td>\n",
       "      <td>1006.0</td>\n",
       "      <td>4.316901</td>\n",
       "      <td>37.32</td>\n",
       "      <td>-121.86</td>\n",
       "      <td>1.588</td>\n",
       "    </tr>\n",
       "    <tr>\n",
       "      <th>37134</th>\n",
       "      <td>37134</td>\n",
       "      <td>4.1716</td>\n",
       "      <td>52.0</td>\n",
       "      <td>4.678862</td>\n",
       "      <td>1.101485</td>\n",
       "      <td>1156.0</td>\n",
       "      <td>1.431734</td>\n",
       "      <td>37.75</td>\n",
       "      <td>-122.44</td>\n",
       "      <td>3.387</td>\n",
       "    </tr>\n",
       "    <tr>\n",
       "      <th>37135</th>\n",
       "      <td>37135</td>\n",
       "      <td>2.7143</td>\n",
       "      <td>16.0</td>\n",
       "      <td>5.710074</td>\n",
       "      <td>1.068376</td>\n",
       "      <td>584.0</td>\n",
       "      <td>2.803659</td>\n",
       "      <td>38.40</td>\n",
       "      <td>-120.98</td>\n",
       "      <td>1.592</td>\n",
       "    </tr>\n",
       "    <tr>\n",
       "      <th>37136</th>\n",
       "      <td>37136</td>\n",
       "      <td>2.2419</td>\n",
       "      <td>34.0</td>\n",
       "      <td>5.424419</td>\n",
       "      <td>1.058685</td>\n",
       "      <td>1340.0</td>\n",
       "      <td>3.799065</td>\n",
       "      <td>36.34</td>\n",
       "      <td>-119.64</td>\n",
       "      <td>0.652</td>\n",
       "    </tr>\n",
       "  </tbody>\n",
       "</table>\n",
       "</div>"
      ],
      "text/plain": [
       "          id  MedInc  HouseAge  AveRooms  AveBedrms  Population  AveOccup  \\\n",
       "37132  37132  3.3438      50.0  4.936508   1.079365      1775.0  3.022222   \n",
       "37133  37133  3.7308      26.0  5.087533   0.966019      1006.0  4.316901   \n",
       "37134  37134  4.1716      52.0  4.678862   1.101485      1156.0  1.431734   \n",
       "37135  37135  2.7143      16.0  5.710074   1.068376       584.0  2.803659   \n",
       "37136  37136  2.2419      34.0  5.424419   1.058685      1340.0  3.799065   \n",
       "\n",
       "       Latitude  Longitude  MedHouseVal  \n",
       "37132     34.19    -118.36        1.856  \n",
       "37133     37.32    -121.86        1.588  \n",
       "37134     37.75    -122.44        3.387  \n",
       "37135     38.40    -120.98        1.592  \n",
       "37136     36.34    -119.64        0.652  "
      ]
     },
     "execution_count": 4,
     "metadata": {},
     "output_type": "execute_result"
    }
   ],
   "source": [
    "\n",
    "df1.tail(5)"
   ]
  },
  {
   "cell_type": "markdown",
   "id": "ba6a289c",
   "metadata": {
    "papermill": {
     "duration": 0.019463,
     "end_time": "2023-01-25T00:23:02.683142",
     "exception": false,
     "start_time": "2023-01-25T00:23:02.663679",
     "status": "completed"
    },
    "tags": []
   },
   "source": [
    "- Check Rown And Column"
   ]
  },
  {
   "cell_type": "code",
   "execution_count": 5,
   "id": "c254cb79",
   "metadata": {
    "execution": {
     "iopub.execute_input": "2023-01-25T00:23:02.724929Z",
     "iopub.status.busy": "2023-01-25T00:23:02.724513Z",
     "iopub.status.idle": "2023-01-25T00:23:02.732829Z",
     "shell.execute_reply": "2023-01-25T00:23:02.731219Z"
    },
    "papermill": {
     "duration": 0.032067,
     "end_time": "2023-01-25T00:23:02.735401",
     "exception": false,
     "start_time": "2023-01-25T00:23:02.703334",
     "status": "completed"
    },
    "tags": []
   },
   "outputs": [
    {
     "data": {
      "text/plain": [
       "(37137, 10)"
      ]
     },
     "execution_count": 5,
     "metadata": {},
     "output_type": "execute_result"
    }
   ],
   "source": [
    "df1.shape"
   ]
  },
  {
   "cell_type": "code",
   "execution_count": 6,
   "id": "55171178",
   "metadata": {
    "execution": {
     "iopub.execute_input": "2023-01-25T00:23:02.780009Z",
     "iopub.status.busy": "2023-01-25T00:23:02.779613Z",
     "iopub.status.idle": "2023-01-25T00:23:02.786773Z",
     "shell.execute_reply": "2023-01-25T00:23:02.785616Z"
    },
    "papermill": {
     "duration": 0.032585,
     "end_time": "2023-01-25T00:23:02.789140",
     "exception": false,
     "start_time": "2023-01-25T00:23:02.756555",
     "status": "completed"
    },
    "tags": []
   },
   "outputs": [
    {
     "data": {
      "text/plain": [
       "Index(['id', 'MedInc', 'HouseAge', 'AveRooms', 'AveBedrms', 'Population',\n",
       "       'AveOccup', 'Latitude', 'Longitude', 'MedHouseVal'],\n",
       "      dtype='object')"
      ]
     },
     "execution_count": 6,
     "metadata": {},
     "output_type": "execute_result"
    }
   ],
   "source": [
    "##  Check Columns Name\n",
    "df1.columns"
   ]
  },
  {
   "cell_type": "markdown",
   "id": "ec46500c",
   "metadata": {
    "papermill": {
     "duration": 0.02113,
     "end_time": "2023-01-25T00:23:02.831872",
     "exception": false,
     "start_time": "2023-01-25T00:23:02.810742",
     "status": "completed"
    },
    "tags": []
   },
   "source": [
    "- Check duplicates\n"
   ]
  },
  {
   "cell_type": "code",
   "execution_count": 7,
   "id": "f64b3f8f",
   "metadata": {
    "execution": {
     "iopub.execute_input": "2023-01-25T00:23:02.874927Z",
     "iopub.status.busy": "2023-01-25T00:23:02.874463Z",
     "iopub.status.idle": "2023-01-25T00:23:02.912532Z",
     "shell.execute_reply": "2023-01-25T00:23:02.911355Z"
    },
    "papermill": {
     "duration": 0.0624,
     "end_time": "2023-01-25T00:23:02.915230",
     "exception": false,
     "start_time": "2023-01-25T00:23:02.852830",
     "status": "completed"
    },
    "tags": []
   },
   "outputs": [
    {
     "data": {
      "text/plain": [
       "0"
      ]
     },
     "execution_count": 7,
     "metadata": {},
     "output_type": "execute_result"
    }
   ],
   "source": [
    "df1.duplicated().sum()"
   ]
  },
  {
   "cell_type": "markdown",
   "id": "1f94386b",
   "metadata": {
    "papermill": {
     "duration": 0.020129,
     "end_time": "2023-01-25T00:23:02.955411",
     "exception": false,
     "start_time": "2023-01-25T00:23:02.935282",
     "status": "completed"
    },
    "tags": []
   },
   "source": [
    "- Check null values"
   ]
  },
  {
   "cell_type": "code",
   "execution_count": 8,
   "id": "88b9ad12",
   "metadata": {
    "execution": {
     "iopub.execute_input": "2023-01-25T00:23:02.997432Z",
     "iopub.status.busy": "2023-01-25T00:23:02.996972Z",
     "iopub.status.idle": "2023-01-25T00:23:03.007580Z",
     "shell.execute_reply": "2023-01-25T00:23:03.006690Z"
    },
    "papermill": {
     "duration": 0.034596,
     "end_time": "2023-01-25T00:23:03.010047",
     "exception": false,
     "start_time": "2023-01-25T00:23:02.975451",
     "status": "completed"
    },
    "tags": []
   },
   "outputs": [
    {
     "data": {
      "text/plain": [
       "id             0\n",
       "MedInc         0\n",
       "HouseAge       0\n",
       "AveRooms       0\n",
       "AveBedrms      0\n",
       "Population     0\n",
       "AveOccup       0\n",
       "Latitude       0\n",
       "Longitude      0\n",
       "MedHouseVal    0\n",
       "dtype: int64"
      ]
     },
     "execution_count": 8,
     "metadata": {},
     "output_type": "execute_result"
    }
   ],
   "source": [
    "df1.isnull().sum()"
   ]
  },
  {
   "cell_type": "markdown",
   "id": "37d0b1de",
   "metadata": {
    "papermill": {
     "duration": 0.020584,
     "end_time": "2023-01-25T00:23:03.050924",
     "exception": false,
     "start_time": "2023-01-25T00:23:03.030340",
     "status": "completed"
    },
    "tags": []
   },
   "source": [
    "- Check Overview DataFrame\n"
   ]
  },
  {
   "cell_type": "code",
   "execution_count": 9,
   "id": "56db16d6",
   "metadata": {
    "execution": {
     "iopub.execute_input": "2023-01-25T00:23:03.094830Z",
     "iopub.status.busy": "2023-01-25T00:23:03.094436Z",
     "iopub.status.idle": "2023-01-25T00:23:03.116926Z",
     "shell.execute_reply": "2023-01-25T00:23:03.115033Z"
    },
    "papermill": {
     "duration": 0.046561,
     "end_time": "2023-01-25T00:23:03.119192",
     "exception": false,
     "start_time": "2023-01-25T00:23:03.072631",
     "status": "completed"
    },
    "tags": []
   },
   "outputs": [
    {
     "name": "stdout",
     "output_type": "stream",
     "text": [
      "<class 'pandas.core.frame.DataFrame'>\n",
      "RangeIndex: 37137 entries, 0 to 37136\n",
      "Data columns (total 10 columns):\n",
      " #   Column       Non-Null Count  Dtype  \n",
      "---  ------       --------------  -----  \n",
      " 0   id           37137 non-null  int64  \n",
      " 1   MedInc       37137 non-null  float64\n",
      " 2   HouseAge     37137 non-null  float64\n",
      " 3   AveRooms     37137 non-null  float64\n",
      " 4   AveBedrms    37137 non-null  float64\n",
      " 5   Population   37137 non-null  float64\n",
      " 6   AveOccup     37137 non-null  float64\n",
      " 7   Latitude     37137 non-null  float64\n",
      " 8   Longitude    37137 non-null  float64\n",
      " 9   MedHouseVal  37137 non-null  float64\n",
      "dtypes: float64(9), int64(1)\n",
      "memory usage: 2.8 MB\n"
     ]
    }
   ],
   "source": [
    "df1.info()"
   ]
  },
  {
   "cell_type": "markdown",
   "id": "d906912e",
   "metadata": {
    "papermill": {
     "duration": 0.020963,
     "end_time": "2023-01-25T00:23:03.163501",
     "exception": false,
     "start_time": "2023-01-25T00:23:03.142538",
     "status": "completed"
    },
    "tags": []
   },
   "source": [
    "- Descriptive Statictis"
   ]
  },
  {
   "cell_type": "code",
   "execution_count": 10,
   "id": "712c76da",
   "metadata": {
    "execution": {
     "iopub.execute_input": "2023-01-25T00:23:03.208393Z",
     "iopub.status.busy": "2023-01-25T00:23:03.207945Z",
     "iopub.status.idle": "2023-01-25T00:23:03.278248Z",
     "shell.execute_reply": "2023-01-25T00:23:03.276955Z"
    },
    "papermill": {
     "duration": 0.09588,
     "end_time": "2023-01-25T00:23:03.280960",
     "exception": false,
     "start_time": "2023-01-25T00:23:03.185080",
     "status": "completed"
    },
    "tags": []
   },
   "outputs": [
    {
     "data": {
      "text/html": [
       "<div>\n",
       "<style scoped>\n",
       "    .dataframe tbody tr th:only-of-type {\n",
       "        vertical-align: middle;\n",
       "    }\n",
       "\n",
       "    .dataframe tbody tr th {\n",
       "        vertical-align: top;\n",
       "    }\n",
       "\n",
       "    .dataframe thead th {\n",
       "        text-align: right;\n",
       "    }\n",
       "</style>\n",
       "<table border=\"1\" class=\"dataframe\">\n",
       "  <thead>\n",
       "    <tr style=\"text-align: right;\">\n",
       "      <th></th>\n",
       "      <th>count</th>\n",
       "      <th>mean</th>\n",
       "      <th>std</th>\n",
       "      <th>min</th>\n",
       "      <th>25%</th>\n",
       "      <th>50%</th>\n",
       "      <th>75%</th>\n",
       "      <th>max</th>\n",
       "    </tr>\n",
       "  </thead>\n",
       "  <tbody>\n",
       "    <tr>\n",
       "      <th>id</th>\n",
       "      <td>37137.0</td>\n",
       "      <td>18568.000000</td>\n",
       "      <td>10720.672810</td>\n",
       "      <td>0.000000</td>\n",
       "      <td>9284.000000</td>\n",
       "      <td>18568.000000</td>\n",
       "      <td>27852.000000</td>\n",
       "      <td>37136.000000</td>\n",
       "    </tr>\n",
       "    <tr>\n",
       "      <th>MedInc</th>\n",
       "      <td>37137.0</td>\n",
       "      <td>3.851029</td>\n",
       "      <td>1.803167</td>\n",
       "      <td>0.499900</td>\n",
       "      <td>2.602300</td>\n",
       "      <td>3.515600</td>\n",
       "      <td>4.699700</td>\n",
       "      <td>15.000100</td>\n",
       "    </tr>\n",
       "    <tr>\n",
       "      <th>HouseAge</th>\n",
       "      <td>37137.0</td>\n",
       "      <td>26.057005</td>\n",
       "      <td>12.158221</td>\n",
       "      <td>2.000000</td>\n",
       "      <td>17.000000</td>\n",
       "      <td>25.000000</td>\n",
       "      <td>35.000000</td>\n",
       "      <td>52.000000</td>\n",
       "    </tr>\n",
       "    <tr>\n",
       "      <th>AveRooms</th>\n",
       "      <td>37137.0</td>\n",
       "      <td>5.163124</td>\n",
       "      <td>1.206242</td>\n",
       "      <td>0.851064</td>\n",
       "      <td>4.357522</td>\n",
       "      <td>5.068611</td>\n",
       "      <td>5.858597</td>\n",
       "      <td>28.837607</td>\n",
       "    </tr>\n",
       "    <tr>\n",
       "      <th>AveBedrms</th>\n",
       "      <td>37137.0</td>\n",
       "      <td>1.062204</td>\n",
       "      <td>0.096490</td>\n",
       "      <td>0.500000</td>\n",
       "      <td>1.020305</td>\n",
       "      <td>1.054545</td>\n",
       "      <td>1.088825</td>\n",
       "      <td>5.873181</td>\n",
       "    </tr>\n",
       "    <tr>\n",
       "      <th>Population</th>\n",
       "      <td>37137.0</td>\n",
       "      <td>1660.778919</td>\n",
       "      <td>1302.469608</td>\n",
       "      <td>3.000000</td>\n",
       "      <td>952.000000</td>\n",
       "      <td>1383.000000</td>\n",
       "      <td>1856.000000</td>\n",
       "      <td>35682.000000</td>\n",
       "    </tr>\n",
       "    <tr>\n",
       "      <th>AveOccup</th>\n",
       "      <td>37137.0</td>\n",
       "      <td>2.831243</td>\n",
       "      <td>2.702413</td>\n",
       "      <td>0.950000</td>\n",
       "      <td>2.394495</td>\n",
       "      <td>2.744828</td>\n",
       "      <td>3.125313</td>\n",
       "      <td>502.990610</td>\n",
       "    </tr>\n",
       "    <tr>\n",
       "      <th>Latitude</th>\n",
       "      <td>37137.0</td>\n",
       "      <td>35.570030</td>\n",
       "      <td>2.083179</td>\n",
       "      <td>32.550000</td>\n",
       "      <td>33.930000</td>\n",
       "      <td>34.190000</td>\n",
       "      <td>37.700000</td>\n",
       "      <td>41.950000</td>\n",
       "    </tr>\n",
       "    <tr>\n",
       "      <th>Longitude</th>\n",
       "      <td>37137.0</td>\n",
       "      <td>-119.554329</td>\n",
       "      <td>1.974028</td>\n",
       "      <td>-124.350000</td>\n",
       "      <td>-121.800000</td>\n",
       "      <td>-118.450000</td>\n",
       "      <td>-118.020000</td>\n",
       "      <td>-114.550000</td>\n",
       "    </tr>\n",
       "    <tr>\n",
       "      <th>MedHouseVal</th>\n",
       "      <td>37137.0</td>\n",
       "      <td>2.079751</td>\n",
       "      <td>1.158571</td>\n",
       "      <td>0.149990</td>\n",
       "      <td>1.208000</td>\n",
       "      <td>1.808000</td>\n",
       "      <td>2.660000</td>\n",
       "      <td>5.000010</td>\n",
       "    </tr>\n",
       "  </tbody>\n",
       "</table>\n",
       "</div>"
      ],
      "text/plain": [
       "               count          mean           std         min          25%  \\\n",
       "id           37137.0  18568.000000  10720.672810    0.000000  9284.000000   \n",
       "MedInc       37137.0      3.851029      1.803167    0.499900     2.602300   \n",
       "HouseAge     37137.0     26.057005     12.158221    2.000000    17.000000   \n",
       "AveRooms     37137.0      5.163124      1.206242    0.851064     4.357522   \n",
       "AveBedrms    37137.0      1.062204      0.096490    0.500000     1.020305   \n",
       "Population   37137.0   1660.778919   1302.469608    3.000000   952.000000   \n",
       "AveOccup     37137.0      2.831243      2.702413    0.950000     2.394495   \n",
       "Latitude     37137.0     35.570030      2.083179   32.550000    33.930000   \n",
       "Longitude    37137.0   -119.554329      1.974028 -124.350000  -121.800000   \n",
       "MedHouseVal  37137.0      2.079751      1.158571    0.149990     1.208000   \n",
       "\n",
       "                      50%           75%           max  \n",
       "id           18568.000000  27852.000000  37136.000000  \n",
       "MedInc           3.515600      4.699700     15.000100  \n",
       "HouseAge        25.000000     35.000000     52.000000  \n",
       "AveRooms         5.068611      5.858597     28.837607  \n",
       "AveBedrms        1.054545      1.088825      5.873181  \n",
       "Population    1383.000000   1856.000000  35682.000000  \n",
       "AveOccup         2.744828      3.125313    502.990610  \n",
       "Latitude        34.190000     37.700000     41.950000  \n",
       "Longitude     -118.450000   -118.020000   -114.550000  \n",
       "MedHouseVal      1.808000      2.660000      5.000010  "
      ]
     },
     "execution_count": 10,
     "metadata": {},
     "output_type": "execute_result"
    }
   ],
   "source": [
    "df1.describe().transpose()"
   ]
  },
  {
   "cell_type": "markdown",
   "id": "bdede40f",
   "metadata": {
    "papermill": {
     "duration": 0.020752,
     "end_time": "2023-01-25T00:23:03.324539",
     "exception": false,
     "start_time": "2023-01-25T00:23:03.303787",
     "status": "completed"
    },
    "tags": []
   },
   "source": [
    "- Check unique values"
   ]
  },
  {
   "cell_type": "code",
   "execution_count": 11,
   "id": "a3985bf1",
   "metadata": {
    "execution": {
     "iopub.execute_input": "2023-01-25T00:23:03.374344Z",
     "iopub.status.busy": "2023-01-25T00:23:03.373925Z",
     "iopub.status.idle": "2023-01-25T00:23:03.395142Z",
     "shell.execute_reply": "2023-01-25T00:23:03.393595Z"
    },
    "papermill": {
     "duration": 0.050667,
     "end_time": "2023-01-25T00:23:03.398107",
     "exception": false,
     "start_time": "2023-01-25T00:23:03.347440",
     "status": "completed"
    },
    "tags": []
   },
   "outputs": [
    {
     "data": {
      "text/plain": [
       "id             37137\n",
       "MedInc         12310\n",
       "HouseAge          51\n",
       "AveRooms       22069\n",
       "AveBedrms      14066\n",
       "Population      3694\n",
       "AveOccup       21078\n",
       "Latitude         791\n",
       "Longitude        755\n",
       "MedHouseVal     3723\n",
       "dtype: int64"
      ]
     },
     "execution_count": 11,
     "metadata": {},
     "output_type": "execute_result"
    }
   ],
   "source": [
    "df1.nunique( )"
   ]
  },
  {
   "cell_type": "markdown",
   "id": "4e58c475",
   "metadata": {
    "papermill": {
     "duration": 0.020515,
     "end_time": "2023-01-25T00:23:03.441661",
     "exception": false,
     "start_time": "2023-01-25T00:23:03.421146",
     "status": "completed"
    },
    "tags": []
   },
   "source": [
    "**DataFrame Test**"
   ]
  },
  {
   "cell_type": "markdown",
   "id": "cf915f32",
   "metadata": {
    "papermill": {
     "duration": 0.020565,
     "end_time": "2023-01-25T00:23:03.483039",
     "exception": false,
     "start_time": "2023-01-25T00:23:03.462474",
     "status": "completed"
    },
    "tags": []
   },
   "source": [
    "- Check the first 5 values"
   ]
  },
  {
   "cell_type": "code",
   "execution_count": 12,
   "id": "ffbe8f5b",
   "metadata": {
    "execution": {
     "iopub.execute_input": "2023-01-25T00:23:03.529559Z",
     "iopub.status.busy": "2023-01-25T00:23:03.529118Z",
     "iopub.status.idle": "2023-01-25T00:23:03.547721Z",
     "shell.execute_reply": "2023-01-25T00:23:03.546451Z"
    },
    "papermill": {
     "duration": 0.045228,
     "end_time": "2023-01-25T00:23:03.550720",
     "exception": false,
     "start_time": "2023-01-25T00:23:03.505492",
     "status": "completed"
    },
    "tags": []
   },
   "outputs": [
    {
     "data": {
      "text/html": [
       "<div>\n",
       "<style scoped>\n",
       "    .dataframe tbody tr th:only-of-type {\n",
       "        vertical-align: middle;\n",
       "    }\n",
       "\n",
       "    .dataframe tbody tr th {\n",
       "        vertical-align: top;\n",
       "    }\n",
       "\n",
       "    .dataframe thead th {\n",
       "        text-align: right;\n",
       "    }\n",
       "</style>\n",
       "<table border=\"1\" class=\"dataframe\">\n",
       "  <thead>\n",
       "    <tr style=\"text-align: right;\">\n",
       "      <th></th>\n",
       "      <th>id</th>\n",
       "      <th>MedInc</th>\n",
       "      <th>HouseAge</th>\n",
       "      <th>AveRooms</th>\n",
       "      <th>AveBedrms</th>\n",
       "      <th>Population</th>\n",
       "      <th>AveOccup</th>\n",
       "      <th>Latitude</th>\n",
       "      <th>Longitude</th>\n",
       "    </tr>\n",
       "  </thead>\n",
       "  <tbody>\n",
       "    <tr>\n",
       "      <th>0</th>\n",
       "      <td>37137</td>\n",
       "      <td>1.7062</td>\n",
       "      <td>35.0</td>\n",
       "      <td>4.966368</td>\n",
       "      <td>1.096539</td>\n",
       "      <td>1318.0</td>\n",
       "      <td>2.844411</td>\n",
       "      <td>39.75</td>\n",
       "      <td>-121.85</td>\n",
       "    </tr>\n",
       "    <tr>\n",
       "      <th>1</th>\n",
       "      <td>37138</td>\n",
       "      <td>1.3882</td>\n",
       "      <td>22.0</td>\n",
       "      <td>4.187035</td>\n",
       "      <td>1.098229</td>\n",
       "      <td>2296.0</td>\n",
       "      <td>3.180218</td>\n",
       "      <td>33.95</td>\n",
       "      <td>-118.29</td>\n",
       "    </tr>\n",
       "    <tr>\n",
       "      <th>2</th>\n",
       "      <td>37139</td>\n",
       "      <td>7.7197</td>\n",
       "      <td>21.0</td>\n",
       "      <td>7.129436</td>\n",
       "      <td>0.959276</td>\n",
       "      <td>1535.0</td>\n",
       "      <td>2.888889</td>\n",
       "      <td>33.61</td>\n",
       "      <td>-117.81</td>\n",
       "    </tr>\n",
       "    <tr>\n",
       "      <th>3</th>\n",
       "      <td>37140</td>\n",
       "      <td>4.6806</td>\n",
       "      <td>49.0</td>\n",
       "      <td>4.769697</td>\n",
       "      <td>1.048485</td>\n",
       "      <td>707.0</td>\n",
       "      <td>1.743590</td>\n",
       "      <td>34.17</td>\n",
       "      <td>-118.34</td>\n",
       "    </tr>\n",
       "    <tr>\n",
       "      <th>4</th>\n",
       "      <td>37141</td>\n",
       "      <td>3.1284</td>\n",
       "      <td>25.0</td>\n",
       "      <td>3.765306</td>\n",
       "      <td>1.081633</td>\n",
       "      <td>4716.0</td>\n",
       "      <td>2.003827</td>\n",
       "      <td>34.17</td>\n",
       "      <td>-118.29</td>\n",
       "    </tr>\n",
       "  </tbody>\n",
       "</table>\n",
       "</div>"
      ],
      "text/plain": [
       "      id  MedInc  HouseAge  AveRooms  AveBedrms  Population  AveOccup  \\\n",
       "0  37137  1.7062      35.0  4.966368   1.096539      1318.0  2.844411   \n",
       "1  37138  1.3882      22.0  4.187035   1.098229      2296.0  3.180218   \n",
       "2  37139  7.7197      21.0  7.129436   0.959276      1535.0  2.888889   \n",
       "3  37140  4.6806      49.0  4.769697   1.048485       707.0  1.743590   \n",
       "4  37141  3.1284      25.0  3.765306   1.081633      4716.0  2.003827   \n",
       "\n",
       "   Latitude  Longitude  \n",
       "0     39.75    -121.85  \n",
       "1     33.95    -118.29  \n",
       "2     33.61    -117.81  \n",
       "3     34.17    -118.34  \n",
       "4     34.17    -118.29  "
      ]
     },
     "execution_count": 12,
     "metadata": {},
     "output_type": "execute_result"
    }
   ],
   "source": [
    "df2.head(5)"
   ]
  },
  {
   "cell_type": "markdown",
   "id": "08616605",
   "metadata": {
    "papermill": {
     "duration": 0.021781,
     "end_time": "2023-01-25T00:23:03.594498",
     "exception": false,
     "start_time": "2023-01-25T00:23:03.572717",
     "status": "completed"
    },
    "tags": []
   },
   "source": [
    "- Check the last 5 values"
   ]
  },
  {
   "cell_type": "code",
   "execution_count": 13,
   "id": "3d5a6914",
   "metadata": {
    "execution": {
     "iopub.execute_input": "2023-01-25T00:23:03.642108Z",
     "iopub.status.busy": "2023-01-25T00:23:03.641399Z",
     "iopub.status.idle": "2023-01-25T00:23:03.658467Z",
     "shell.execute_reply": "2023-01-25T00:23:03.657251Z"
    },
    "papermill": {
     "duration": 0.044542,
     "end_time": "2023-01-25T00:23:03.661187",
     "exception": false,
     "start_time": "2023-01-25T00:23:03.616645",
     "status": "completed"
    },
    "tags": []
   },
   "outputs": [
    {
     "data": {
      "text/html": [
       "<div>\n",
       "<style scoped>\n",
       "    .dataframe tbody tr th:only-of-type {\n",
       "        vertical-align: middle;\n",
       "    }\n",
       "\n",
       "    .dataframe tbody tr th {\n",
       "        vertical-align: top;\n",
       "    }\n",
       "\n",
       "    .dataframe thead th {\n",
       "        text-align: right;\n",
       "    }\n",
       "</style>\n",
       "<table border=\"1\" class=\"dataframe\">\n",
       "  <thead>\n",
       "    <tr style=\"text-align: right;\">\n",
       "      <th></th>\n",
       "      <th>id</th>\n",
       "      <th>MedInc</th>\n",
       "      <th>HouseAge</th>\n",
       "      <th>AveRooms</th>\n",
       "      <th>AveBedrms</th>\n",
       "      <th>Population</th>\n",
       "      <th>AveOccup</th>\n",
       "      <th>Latitude</th>\n",
       "      <th>Longitude</th>\n",
       "    </tr>\n",
       "  </thead>\n",
       "  <tbody>\n",
       "    <tr>\n",
       "      <th>24754</th>\n",
       "      <td>61891</td>\n",
       "      <td>2.2875</td>\n",
       "      <td>34.0</td>\n",
       "      <td>3.914729</td>\n",
       "      <td>1.085271</td>\n",
       "      <td>866.0</td>\n",
       "      <td>2.071429</td>\n",
       "      <td>34.44</td>\n",
       "      <td>-119.75</td>\n",
       "    </tr>\n",
       "    <tr>\n",
       "      <th>24755</th>\n",
       "      <td>61892</td>\n",
       "      <td>3.0781</td>\n",
       "      <td>33.0</td>\n",
       "      <td>4.771971</td>\n",
       "      <td>1.038674</td>\n",
       "      <td>1628.0</td>\n",
       "      <td>2.326848</td>\n",
       "      <td>34.09</td>\n",
       "      <td>-117.96</td>\n",
       "    </tr>\n",
       "    <tr>\n",
       "      <th>24756</th>\n",
       "      <td>61893</td>\n",
       "      <td>2.6961</td>\n",
       "      <td>14.0</td>\n",
       "      <td>4.593960</td>\n",
       "      <td>1.170380</td>\n",
       "      <td>3900.0</td>\n",
       "      <td>2.540034</td>\n",
       "      <td>37.51</td>\n",
       "      <td>-120.83</td>\n",
       "    </tr>\n",
       "    <tr>\n",
       "      <th>24757</th>\n",
       "      <td>61894</td>\n",
       "      <td>7.2315</td>\n",
       "      <td>8.0</td>\n",
       "      <td>7.508403</td>\n",
       "      <td>1.018692</td>\n",
       "      <td>1388.0</td>\n",
       "      <td>2.601202</td>\n",
       "      <td>33.67</td>\n",
       "      <td>-117.98</td>\n",
       "    </tr>\n",
       "    <tr>\n",
       "      <th>24758</th>\n",
       "      <td>61895</td>\n",
       "      <td>5.7260</td>\n",
       "      <td>30.0</td>\n",
       "      <td>6.000000</td>\n",
       "      <td>1.000000</td>\n",
       "      <td>15.0</td>\n",
       "      <td>2.500000</td>\n",
       "      <td>37.96</td>\n",
       "      <td>-122.47</td>\n",
       "    </tr>\n",
       "  </tbody>\n",
       "</table>\n",
       "</div>"
      ],
      "text/plain": [
       "          id  MedInc  HouseAge  AveRooms  AveBedrms  Population  AveOccup  \\\n",
       "24754  61891  2.2875      34.0  3.914729   1.085271       866.0  2.071429   \n",
       "24755  61892  3.0781      33.0  4.771971   1.038674      1628.0  2.326848   \n",
       "24756  61893  2.6961      14.0  4.593960   1.170380      3900.0  2.540034   \n",
       "24757  61894  7.2315       8.0  7.508403   1.018692      1388.0  2.601202   \n",
       "24758  61895  5.7260      30.0  6.000000   1.000000        15.0  2.500000   \n",
       "\n",
       "       Latitude  Longitude  \n",
       "24754     34.44    -119.75  \n",
       "24755     34.09    -117.96  \n",
       "24756     37.51    -120.83  \n",
       "24757     33.67    -117.98  \n",
       "24758     37.96    -122.47  "
      ]
     },
     "execution_count": 13,
     "metadata": {},
     "output_type": "execute_result"
    }
   ],
   "source": [
    "df2.tail(5)"
   ]
  },
  {
   "cell_type": "markdown",
   "id": "ff0ffcd9",
   "metadata": {
    "papermill": {
     "duration": 0.022031,
     "end_time": "2023-01-25T00:23:03.704419",
     "exception": false,
     "start_time": "2023-01-25T00:23:03.682388",
     "status": "completed"
    },
    "tags": []
   },
   "source": [
    "- Count columns and row of Data Test"
   ]
  },
  {
   "cell_type": "code",
   "execution_count": 14,
   "id": "a9eebefe",
   "metadata": {
    "execution": {
     "iopub.execute_input": "2023-01-25T00:23:03.750002Z",
     "iopub.status.busy": "2023-01-25T00:23:03.749535Z",
     "iopub.status.idle": "2023-01-25T00:23:03.756225Z",
     "shell.execute_reply": "2023-01-25T00:23:03.755227Z"
    },
    "papermill": {
     "duration": 0.031765,
     "end_time": "2023-01-25T00:23:03.758302",
     "exception": false,
     "start_time": "2023-01-25T00:23:03.726537",
     "status": "completed"
    },
    "tags": []
   },
   "outputs": [
    {
     "data": {
      "text/plain": [
       "(24759, 9)"
      ]
     },
     "execution_count": 14,
     "metadata": {},
     "output_type": "execute_result"
    }
   ],
   "source": [
    "df2.shape"
   ]
  },
  {
   "cell_type": "markdown",
   "id": "98fac720",
   "metadata": {
    "papermill": {
     "duration": 0.021909,
     "end_time": "2023-01-25T00:23:03.803502",
     "exception": false,
     "start_time": "2023-01-25T00:23:03.781593",
     "status": "completed"
    },
    "tags": []
   },
   "source": [
    "- Check columns name"
   ]
  },
  {
   "cell_type": "code",
   "execution_count": 15,
   "id": "aa143409",
   "metadata": {
    "execution": {
     "iopub.execute_input": "2023-01-25T00:23:03.851661Z",
     "iopub.status.busy": "2023-01-25T00:23:03.850924Z",
     "iopub.status.idle": "2023-01-25T00:23:03.857915Z",
     "shell.execute_reply": "2023-01-25T00:23:03.856786Z"
    },
    "papermill": {
     "duration": 0.035069,
     "end_time": "2023-01-25T00:23:03.860791",
     "exception": false,
     "start_time": "2023-01-25T00:23:03.825722",
     "status": "completed"
    },
    "tags": []
   },
   "outputs": [
    {
     "data": {
      "text/plain": [
       "Index(['id', 'MedInc', 'HouseAge', 'AveRooms', 'AveBedrms', 'Population',\n",
       "       'AveOccup', 'Latitude', 'Longitude'],\n",
       "      dtype='object')"
      ]
     },
     "execution_count": 15,
     "metadata": {},
     "output_type": "execute_result"
    }
   ],
   "source": [
    "df2.columns"
   ]
  },
  {
   "cell_type": "markdown",
   "id": "fa156648",
   "metadata": {
    "papermill": {
     "duration": 0.021666,
     "end_time": "2023-01-25T00:23:03.904403",
     "exception": false,
     "start_time": "2023-01-25T00:23:03.882737",
     "status": "completed"
    },
    "tags": []
   },
   "source": [
    "- Check duplicated"
   ]
  },
  {
   "cell_type": "code",
   "execution_count": 16,
   "id": "0da6758c",
   "metadata": {
    "execution": {
     "iopub.execute_input": "2023-01-25T00:23:03.950580Z",
     "iopub.status.busy": "2023-01-25T00:23:03.950092Z",
     "iopub.status.idle": "2023-01-25T00:23:03.971144Z",
     "shell.execute_reply": "2023-01-25T00:23:03.969884Z"
    },
    "papermill": {
     "duration": 0.047036,
     "end_time": "2023-01-25T00:23:03.973819",
     "exception": false,
     "start_time": "2023-01-25T00:23:03.926783",
     "status": "completed"
    },
    "tags": []
   },
   "outputs": [
    {
     "data": {
      "text/plain": [
       "0"
      ]
     },
     "execution_count": 16,
     "metadata": {},
     "output_type": "execute_result"
    }
   ],
   "source": [
    "df2.duplicated().sum()"
   ]
  },
  {
   "cell_type": "markdown",
   "id": "07300498",
   "metadata": {
    "papermill": {
     "duration": 0.021827,
     "end_time": "2023-01-25T00:23:04.018212",
     "exception": false,
     "start_time": "2023-01-25T00:23:03.996385",
     "status": "completed"
    },
    "tags": []
   },
   "source": [
    "- Check null values"
   ]
  },
  {
   "cell_type": "code",
   "execution_count": 17,
   "id": "4acf27e4",
   "metadata": {
    "execution": {
     "iopub.execute_input": "2023-01-25T00:23:04.066109Z",
     "iopub.status.busy": "2023-01-25T00:23:04.065097Z",
     "iopub.status.idle": "2023-01-25T00:23:04.075134Z",
     "shell.execute_reply": "2023-01-25T00:23:04.073699Z"
    },
    "papermill": {
     "duration": 0.03723,
     "end_time": "2023-01-25T00:23:04.077930",
     "exception": false,
     "start_time": "2023-01-25T00:23:04.040700",
     "status": "completed"
    },
    "tags": []
   },
   "outputs": [
    {
     "data": {
      "text/plain": [
       "id            0\n",
       "MedInc        0\n",
       "HouseAge      0\n",
       "AveRooms      0\n",
       "AveBedrms     0\n",
       "Population    0\n",
       "AveOccup      0\n",
       "Latitude      0\n",
       "Longitude     0\n",
       "dtype: int64"
      ]
     },
     "execution_count": 17,
     "metadata": {},
     "output_type": "execute_result"
    }
   ],
   "source": [
    "df2.isnull().sum()"
   ]
  },
  {
   "cell_type": "markdown",
   "id": "b4c11195",
   "metadata": {
    "papermill": {
     "duration": 0.021731,
     "end_time": "2023-01-25T00:23:04.122915",
     "exception": false,
     "start_time": "2023-01-25T00:23:04.101184",
     "status": "completed"
    },
    "tags": []
   },
   "source": [
    "- Check overview DataFrame"
   ]
  },
  {
   "cell_type": "code",
   "execution_count": 18,
   "id": "075a62a8",
   "metadata": {
    "execution": {
     "iopub.execute_input": "2023-01-25T00:23:04.170380Z",
     "iopub.status.busy": "2023-01-25T00:23:04.169222Z",
     "iopub.status.idle": "2023-01-25T00:23:04.184286Z",
     "shell.execute_reply": "2023-01-25T00:23:04.182824Z"
    },
    "papermill": {
     "duration": 0.042147,
     "end_time": "2023-01-25T00:23:04.187380",
     "exception": false,
     "start_time": "2023-01-25T00:23:04.145233",
     "status": "completed"
    },
    "tags": []
   },
   "outputs": [
    {
     "name": "stdout",
     "output_type": "stream",
     "text": [
      "<class 'pandas.core.frame.DataFrame'>\n",
      "RangeIndex: 24759 entries, 0 to 24758\n",
      "Data columns (total 9 columns):\n",
      " #   Column      Non-Null Count  Dtype  \n",
      "---  ------      --------------  -----  \n",
      " 0   id          24759 non-null  int64  \n",
      " 1   MedInc      24759 non-null  float64\n",
      " 2   HouseAge    24759 non-null  float64\n",
      " 3   AveRooms    24759 non-null  float64\n",
      " 4   AveBedrms   24759 non-null  float64\n",
      " 5   Population  24759 non-null  float64\n",
      " 6   AveOccup    24759 non-null  float64\n",
      " 7   Latitude    24759 non-null  float64\n",
      " 8   Longitude   24759 non-null  float64\n",
      "dtypes: float64(8), int64(1)\n",
      "memory usage: 1.7 MB\n"
     ]
    }
   ],
   "source": [
    "df2.info()"
   ]
  },
  {
   "cell_type": "markdown",
   "id": "eab74003",
   "metadata": {
    "papermill": {
     "duration": 0.021353,
     "end_time": "2023-01-25T00:23:04.231919",
     "exception": false,
     "start_time": "2023-01-25T00:23:04.210566",
     "status": "completed"
    },
    "tags": []
   },
   "source": [
    "- Descriptive Statistic"
   ]
  },
  {
   "cell_type": "code",
   "execution_count": 19,
   "id": "8cb5ac9a",
   "metadata": {
    "execution": {
     "iopub.execute_input": "2023-01-25T00:23:04.278826Z",
     "iopub.status.busy": "2023-01-25T00:23:04.278339Z",
     "iopub.status.idle": "2023-01-25T00:23:04.331816Z",
     "shell.execute_reply": "2023-01-25T00:23:04.330479Z"
    },
    "papermill": {
     "duration": 0.080427,
     "end_time": "2023-01-25T00:23:04.335360",
     "exception": false,
     "start_time": "2023-01-25T00:23:04.254933",
     "status": "completed"
    },
    "tags": []
   },
   "outputs": [
    {
     "data": {
      "text/html": [
       "<div>\n",
       "<style scoped>\n",
       "    .dataframe tbody tr th:only-of-type {\n",
       "        vertical-align: middle;\n",
       "    }\n",
       "\n",
       "    .dataframe tbody tr th {\n",
       "        vertical-align: top;\n",
       "    }\n",
       "\n",
       "    .dataframe thead th {\n",
       "        text-align: right;\n",
       "    }\n",
       "</style>\n",
       "<table border=\"1\" class=\"dataframe\">\n",
       "  <thead>\n",
       "    <tr style=\"text-align: right;\">\n",
       "      <th></th>\n",
       "      <th>count</th>\n",
       "      <th>mean</th>\n",
       "      <th>std</th>\n",
       "      <th>min</th>\n",
       "      <th>25%</th>\n",
       "      <th>50%</th>\n",
       "      <th>75%</th>\n",
       "      <th>max</th>\n",
       "    </tr>\n",
       "  </thead>\n",
       "  <tbody>\n",
       "    <tr>\n",
       "      <th>id</th>\n",
       "      <td>24759.0</td>\n",
       "      <td>49516.000000</td>\n",
       "      <td>7147.451994</td>\n",
       "      <td>37137.000000</td>\n",
       "      <td>43326.500000</td>\n",
       "      <td>49516.000000</td>\n",
       "      <td>55705.500000</td>\n",
       "      <td>61895.000000</td>\n",
       "    </tr>\n",
       "    <tr>\n",
       "      <th>MedInc</th>\n",
       "      <td>24759.0</td>\n",
       "      <td>3.832618</td>\n",
       "      <td>1.797503</td>\n",
       "      <td>0.499900</td>\n",
       "      <td>2.590150</td>\n",
       "      <td>3.504600</td>\n",
       "      <td>4.687500</td>\n",
       "      <td>15.000100</td>\n",
       "    </tr>\n",
       "    <tr>\n",
       "      <th>HouseAge</th>\n",
       "      <td>24759.0</td>\n",
       "      <td>26.041561</td>\n",
       "      <td>12.177907</td>\n",
       "      <td>2.000000</td>\n",
       "      <td>17.000000</td>\n",
       "      <td>25.000000</td>\n",
       "      <td>35.000000</td>\n",
       "      <td>52.000000</td>\n",
       "    </tr>\n",
       "    <tr>\n",
       "      <th>AveRooms</th>\n",
       "      <td>24759.0</td>\n",
       "      <td>5.168789</td>\n",
       "      <td>1.252874</td>\n",
       "      <td>1.000000</td>\n",
       "      <td>4.356443</td>\n",
       "      <td>5.077143</td>\n",
       "      <td>5.858646</td>\n",
       "      <td>56.269231</td>\n",
       "    </tr>\n",
       "    <tr>\n",
       "      <th>AveBedrms</th>\n",
       "      <td>24759.0</td>\n",
       "      <td>1.063599</td>\n",
       "      <td>0.123630</td>\n",
       "      <td>0.560000</td>\n",
       "      <td>1.020460</td>\n",
       "      <td>1.054094</td>\n",
       "      <td>1.088295</td>\n",
       "      <td>10.500000</td>\n",
       "    </tr>\n",
       "    <tr>\n",
       "      <th>Population</th>\n",
       "      <td>24759.0</td>\n",
       "      <td>1679.327548</td>\n",
       "      <td>1365.598976</td>\n",
       "      <td>3.000000</td>\n",
       "      <td>955.000000</td>\n",
       "      <td>1398.000000</td>\n",
       "      <td>1874.000000</td>\n",
       "      <td>35682.000000</td>\n",
       "    </tr>\n",
       "    <tr>\n",
       "      <th>AveOccup</th>\n",
       "      <td>24759.0</td>\n",
       "      <td>2.830808</td>\n",
       "      <td>1.615320</td>\n",
       "      <td>0.764706</td>\n",
       "      <td>2.400000</td>\n",
       "      <td>2.751592</td>\n",
       "      <td>3.129167</td>\n",
       "      <td>230.172414</td>\n",
       "    </tr>\n",
       "    <tr>\n",
       "      <th>Latitude</th>\n",
       "      <td>24759.0</td>\n",
       "      <td>35.598007</td>\n",
       "      <td>2.097787</td>\n",
       "      <td>32.550000</td>\n",
       "      <td>33.930000</td>\n",
       "      <td>34.200000</td>\n",
       "      <td>37.720000</td>\n",
       "      <td>41.950000</td>\n",
       "    </tr>\n",
       "    <tr>\n",
       "      <th>Longitude</th>\n",
       "      <td>24759.0</td>\n",
       "      <td>-119.570208</td>\n",
       "      <td>1.977200</td>\n",
       "      <td>-124.230000</td>\n",
       "      <td>-121.800000</td>\n",
       "      <td>-118.460000</td>\n",
       "      <td>-118.020000</td>\n",
       "      <td>-114.550000</td>\n",
       "    </tr>\n",
       "  </tbody>\n",
       "</table>\n",
       "</div>"
      ],
      "text/plain": [
       "              count          mean          std           min           25%  \\\n",
       "id          24759.0  49516.000000  7147.451994  37137.000000  43326.500000   \n",
       "MedInc      24759.0      3.832618     1.797503      0.499900      2.590150   \n",
       "HouseAge    24759.0     26.041561    12.177907      2.000000     17.000000   \n",
       "AveRooms    24759.0      5.168789     1.252874      1.000000      4.356443   \n",
       "AveBedrms   24759.0      1.063599     0.123630      0.560000      1.020460   \n",
       "Population  24759.0   1679.327548  1365.598976      3.000000    955.000000   \n",
       "AveOccup    24759.0      2.830808     1.615320      0.764706      2.400000   \n",
       "Latitude    24759.0     35.598007     2.097787     32.550000     33.930000   \n",
       "Longitude   24759.0   -119.570208     1.977200   -124.230000   -121.800000   \n",
       "\n",
       "                     50%           75%           max  \n",
       "id          49516.000000  55705.500000  61895.000000  \n",
       "MedInc          3.504600      4.687500     15.000100  \n",
       "HouseAge       25.000000     35.000000     52.000000  \n",
       "AveRooms        5.077143      5.858646     56.269231  \n",
       "AveBedrms       1.054094      1.088295     10.500000  \n",
       "Population   1398.000000   1874.000000  35682.000000  \n",
       "AveOccup        2.751592      3.129167    230.172414  \n",
       "Latitude       34.200000     37.720000     41.950000  \n",
       "Longitude    -118.460000   -118.020000   -114.550000  "
      ]
     },
     "execution_count": 19,
     "metadata": {},
     "output_type": "execute_result"
    }
   ],
   "source": [
    "df2.describe().transpose()"
   ]
  },
  {
   "cell_type": "markdown",
   "id": "d19c1be4",
   "metadata": {
    "papermill": {
     "duration": 0.0246,
     "end_time": "2023-01-25T00:23:04.383171",
     "exception": false,
     "start_time": "2023-01-25T00:23:04.358571",
     "status": "completed"
    },
    "tags": []
   },
   "source": [
    "- Check unique values"
   ]
  },
  {
   "cell_type": "code",
   "execution_count": 20,
   "id": "edf3c215",
   "metadata": {
    "execution": {
     "iopub.execute_input": "2023-01-25T00:23:04.433335Z",
     "iopub.status.busy": "2023-01-25T00:23:04.432863Z",
     "iopub.status.idle": "2023-01-25T00:23:04.451136Z",
     "shell.execute_reply": "2023-01-25T00:23:04.449493Z"
    },
    "papermill": {
     "duration": 0.046805,
     "end_time": "2023-01-25T00:23:04.454084",
     "exception": false,
     "start_time": "2023-01-25T00:23:04.407279",
     "status": "completed"
    },
    "tags": []
   },
   "outputs": [
    {
     "data": {
      "text/plain": [
       "id            24759\n",
       "MedInc        10239\n",
       "HouseAge         51\n",
       "AveRooms      16763\n",
       "AveBedrms     11147\n",
       "Population     3454\n",
       "AveOccup      15938\n",
       "Latitude        745\n",
       "Longitude       736\n",
       "dtype: int64"
      ]
     },
     "execution_count": 20,
     "metadata": {},
     "output_type": "execute_result"
    }
   ],
   "source": [
    "df2.nunique()"
   ]
  },
  {
   "cell_type": "markdown",
   "id": "2ba065f1",
   "metadata": {
    "papermill": {
     "duration": 0.023132,
     "end_time": "2023-01-25T00:23:04.500872",
     "exception": false,
     "start_time": "2023-01-25T00:23:04.477740",
     "status": "completed"
    },
    "tags": []
   },
   "source": [
    "**DataFrame Simple_Submission_c**"
   ]
  },
  {
   "cell_type": "code",
   "execution_count": 21,
   "id": "d39115d8",
   "metadata": {
    "execution": {
     "iopub.execute_input": "2023-01-25T00:23:04.549096Z",
     "iopub.status.busy": "2023-01-25T00:23:04.548652Z",
     "iopub.status.idle": "2023-01-25T00:23:04.561703Z",
     "shell.execute_reply": "2023-01-25T00:23:04.560170Z"
    },
    "papermill": {
     "duration": 0.040967,
     "end_time": "2023-01-25T00:23:04.564592",
     "exception": false,
     "start_time": "2023-01-25T00:23:04.523625",
     "status": "completed"
    },
    "tags": []
   },
   "outputs": [
    {
     "data": {
      "text/html": [
       "<div>\n",
       "<style scoped>\n",
       "    .dataframe tbody tr th:only-of-type {\n",
       "        vertical-align: middle;\n",
       "    }\n",
       "\n",
       "    .dataframe tbody tr th {\n",
       "        vertical-align: top;\n",
       "    }\n",
       "\n",
       "    .dataframe thead th {\n",
       "        text-align: right;\n",
       "    }\n",
       "</style>\n",
       "<table border=\"1\" class=\"dataframe\">\n",
       "  <thead>\n",
       "    <tr style=\"text-align: right;\">\n",
       "      <th></th>\n",
       "      <th>id</th>\n",
       "      <th>MedHouseVal</th>\n",
       "    </tr>\n",
       "  </thead>\n",
       "  <tbody>\n",
       "    <tr>\n",
       "      <th>0</th>\n",
       "      <td>37137</td>\n",
       "      <td>2.079751</td>\n",
       "    </tr>\n",
       "    <tr>\n",
       "      <th>1</th>\n",
       "      <td>37138</td>\n",
       "      <td>2.079751</td>\n",
       "    </tr>\n",
       "    <tr>\n",
       "      <th>2</th>\n",
       "      <td>37139</td>\n",
       "      <td>2.079751</td>\n",
       "    </tr>\n",
       "    <tr>\n",
       "      <th>3</th>\n",
       "      <td>37140</td>\n",
       "      <td>2.079751</td>\n",
       "    </tr>\n",
       "    <tr>\n",
       "      <th>4</th>\n",
       "      <td>37141</td>\n",
       "      <td>2.079751</td>\n",
       "    </tr>\n",
       "  </tbody>\n",
       "</table>\n",
       "</div>"
      ],
      "text/plain": [
       "      id  MedHouseVal\n",
       "0  37137     2.079751\n",
       "1  37138     2.079751\n",
       "2  37139     2.079751\n",
       "3  37140     2.079751\n",
       "4  37141     2.079751"
      ]
     },
     "execution_count": 21,
     "metadata": {},
     "output_type": "execute_result"
    }
   ],
   "source": [
    "df3.head(5)"
   ]
  },
  {
   "cell_type": "code",
   "execution_count": 22,
   "id": "4fdb8244",
   "metadata": {
    "execution": {
     "iopub.execute_input": "2023-01-25T00:23:04.612278Z",
     "iopub.status.busy": "2023-01-25T00:23:04.611584Z",
     "iopub.status.idle": "2023-01-25T00:23:04.621036Z",
     "shell.execute_reply": "2023-01-25T00:23:04.619407Z"
    },
    "papermill": {
     "duration": 0.035972,
     "end_time": "2023-01-25T00:23:04.623692",
     "exception": false,
     "start_time": "2023-01-25T00:23:04.587720",
     "status": "completed"
    },
    "tags": []
   },
   "outputs": [
    {
     "data": {
      "text/plain": [
       "(24759, 2)"
      ]
     },
     "execution_count": 22,
     "metadata": {},
     "output_type": "execute_result"
    }
   ],
   "source": [
    "df3.shape"
   ]
  },
  {
   "cell_type": "code",
   "execution_count": 23,
   "id": "af191545",
   "metadata": {
    "execution": {
     "iopub.execute_input": "2023-01-25T00:23:04.674566Z",
     "iopub.status.busy": "2023-01-25T00:23:04.674068Z",
     "iopub.status.idle": "2023-01-25T00:23:04.681705Z",
     "shell.execute_reply": "2023-01-25T00:23:04.680426Z"
    },
    "papermill": {
     "duration": 0.036188,
     "end_time": "2023-01-25T00:23:04.683886",
     "exception": false,
     "start_time": "2023-01-25T00:23:04.647698",
     "status": "completed"
    },
    "tags": []
   },
   "outputs": [
    {
     "data": {
      "text/plain": [
       "Index(['id', 'MedHouseVal'], dtype='object')"
      ]
     },
     "execution_count": 23,
     "metadata": {},
     "output_type": "execute_result"
    }
   ],
   "source": [
    "df3.columns"
   ]
  },
  {
   "cell_type": "code",
   "execution_count": 24,
   "id": "177ce385",
   "metadata": {
    "execution": {
     "iopub.execute_input": "2023-01-25T00:23:04.734654Z",
     "iopub.status.busy": "2023-01-25T00:23:04.734145Z",
     "iopub.status.idle": "2023-01-25T00:23:04.744553Z",
     "shell.execute_reply": "2023-01-25T00:23:04.743589Z"
    },
    "papermill": {
     "duration": 0.039802,
     "end_time": "2023-01-25T00:23:04.747450",
     "exception": false,
     "start_time": "2023-01-25T00:23:04.707648",
     "status": "completed"
    },
    "tags": []
   },
   "outputs": [
    {
     "data": {
      "text/plain": [
       "0"
      ]
     },
     "execution_count": 24,
     "metadata": {},
     "output_type": "execute_result"
    }
   ],
   "source": [
    "df3.duplicated().sum()"
   ]
  },
  {
   "cell_type": "code",
   "execution_count": 25,
   "id": "239dd2cf",
   "metadata": {
    "execution": {
     "iopub.execute_input": "2023-01-25T00:23:04.801272Z",
     "iopub.status.busy": "2023-01-25T00:23:04.800653Z",
     "iopub.status.idle": "2023-01-25T00:23:04.808888Z",
     "shell.execute_reply": "2023-01-25T00:23:04.807869Z"
    },
    "papermill": {
     "duration": 0.037881,
     "end_time": "2023-01-25T00:23:04.811282",
     "exception": false,
     "start_time": "2023-01-25T00:23:04.773401",
     "status": "completed"
    },
    "tags": []
   },
   "outputs": [
    {
     "data": {
      "text/plain": [
       "id             0\n",
       "MedHouseVal    0\n",
       "dtype: int64"
      ]
     },
     "execution_count": 25,
     "metadata": {},
     "output_type": "execute_result"
    }
   ],
   "source": [
    "df3.isnull().sum()"
   ]
  },
  {
   "cell_type": "code",
   "execution_count": 26,
   "id": "f06c9551",
   "metadata": {
    "execution": {
     "iopub.execute_input": "2023-01-25T00:23:04.862229Z",
     "iopub.status.busy": "2023-01-25T00:23:04.861537Z",
     "iopub.status.idle": "2023-01-25T00:23:04.874975Z",
     "shell.execute_reply": "2023-01-25T00:23:04.872570Z"
    },
    "papermill": {
     "duration": 0.042821,
     "end_time": "2023-01-25T00:23:04.877824",
     "exception": false,
     "start_time": "2023-01-25T00:23:04.835003",
     "status": "completed"
    },
    "tags": []
   },
   "outputs": [
    {
     "name": "stdout",
     "output_type": "stream",
     "text": [
      "<class 'pandas.core.frame.DataFrame'>\n",
      "RangeIndex: 24759 entries, 0 to 24758\n",
      "Data columns (total 2 columns):\n",
      " #   Column       Non-Null Count  Dtype  \n",
      "---  ------       --------------  -----  \n",
      " 0   id           24759 non-null  int64  \n",
      " 1   MedHouseVal  24759 non-null  float64\n",
      "dtypes: float64(1), int64(1)\n",
      "memory usage: 387.0 KB\n"
     ]
    }
   ],
   "source": [
    "df3.info()"
   ]
  },
  {
   "cell_type": "code",
   "execution_count": 27,
   "id": "d76829e0",
   "metadata": {
    "execution": {
     "iopub.execute_input": "2023-01-25T00:23:04.927166Z",
     "iopub.status.busy": "2023-01-25T00:23:04.925740Z",
     "iopub.status.idle": "2023-01-25T00:23:04.946903Z",
     "shell.execute_reply": "2023-01-25T00:23:04.945901Z"
    },
    "papermill": {
     "duration": 0.048443,
     "end_time": "2023-01-25T00:23:04.949541",
     "exception": false,
     "start_time": "2023-01-25T00:23:04.901098",
     "status": "completed"
    },
    "tags": []
   },
   "outputs": [
    {
     "data": {
      "text/html": [
       "<div>\n",
       "<style scoped>\n",
       "    .dataframe tbody tr th:only-of-type {\n",
       "        vertical-align: middle;\n",
       "    }\n",
       "\n",
       "    .dataframe tbody tr th {\n",
       "        vertical-align: top;\n",
       "    }\n",
       "\n",
       "    .dataframe thead th {\n",
       "        text-align: right;\n",
       "    }\n",
       "</style>\n",
       "<table border=\"1\" class=\"dataframe\">\n",
       "  <thead>\n",
       "    <tr style=\"text-align: right;\">\n",
       "      <th></th>\n",
       "      <th>id</th>\n",
       "      <th>MedHouseVal</th>\n",
       "    </tr>\n",
       "  </thead>\n",
       "  <tbody>\n",
       "    <tr>\n",
       "      <th>count</th>\n",
       "      <td>24759.000000</td>\n",
       "      <td>24759.000000</td>\n",
       "    </tr>\n",
       "    <tr>\n",
       "      <th>mean</th>\n",
       "      <td>49516.000000</td>\n",
       "      <td>2.079751</td>\n",
       "    </tr>\n",
       "    <tr>\n",
       "      <th>std</th>\n",
       "      <td>7147.451994</td>\n",
       "      <td>0.000000</td>\n",
       "    </tr>\n",
       "    <tr>\n",
       "      <th>min</th>\n",
       "      <td>37137.000000</td>\n",
       "      <td>2.079751</td>\n",
       "    </tr>\n",
       "    <tr>\n",
       "      <th>25%</th>\n",
       "      <td>43326.500000</td>\n",
       "      <td>2.079751</td>\n",
       "    </tr>\n",
       "    <tr>\n",
       "      <th>50%</th>\n",
       "      <td>49516.000000</td>\n",
       "      <td>2.079751</td>\n",
       "    </tr>\n",
       "    <tr>\n",
       "      <th>75%</th>\n",
       "      <td>55705.500000</td>\n",
       "      <td>2.079751</td>\n",
       "    </tr>\n",
       "    <tr>\n",
       "      <th>max</th>\n",
       "      <td>61895.000000</td>\n",
       "      <td>2.079751</td>\n",
       "    </tr>\n",
       "  </tbody>\n",
       "</table>\n",
       "</div>"
      ],
      "text/plain": [
       "                 id   MedHouseVal\n",
       "count  24759.000000  24759.000000\n",
       "mean   49516.000000      2.079751\n",
       "std     7147.451994      0.000000\n",
       "min    37137.000000      2.079751\n",
       "25%    43326.500000      2.079751\n",
       "50%    49516.000000      2.079751\n",
       "75%    55705.500000      2.079751\n",
       "max    61895.000000      2.079751"
      ]
     },
     "execution_count": 27,
     "metadata": {},
     "output_type": "execute_result"
    }
   ],
   "source": [
    "df3.describe()"
   ]
  },
  {
   "cell_type": "code",
   "execution_count": 28,
   "id": "dcf8933d",
   "metadata": {
    "execution": {
     "iopub.execute_input": "2023-01-25T00:23:05.002342Z",
     "iopub.status.busy": "2023-01-25T00:23:05.000920Z",
     "iopub.status.idle": "2023-01-25T00:23:05.008579Z",
     "shell.execute_reply": "2023-01-25T00:23:05.007123Z"
    },
    "papermill": {
     "duration": 0.037516,
     "end_time": "2023-01-25T00:23:05.011499",
     "exception": false,
     "start_time": "2023-01-25T00:23:04.973983",
     "status": "completed"
    },
    "tags": []
   },
   "outputs": [],
   "source": [
    "df1=df1.drop('id',axis=1)"
   ]
  },
  {
   "cell_type": "code",
   "execution_count": 29,
   "id": "da171af0",
   "metadata": {
    "execution": {
     "iopub.execute_input": "2023-01-25T00:23:05.064507Z",
     "iopub.status.busy": "2023-01-25T00:23:05.063172Z",
     "iopub.status.idle": "2023-01-25T00:23:05.071294Z",
     "shell.execute_reply": "2023-01-25T00:23:05.069941Z"
    },
    "papermill": {
     "duration": 0.037557,
     "end_time": "2023-01-25T00:23:05.073995",
     "exception": false,
     "start_time": "2023-01-25T00:23:05.036438",
     "status": "completed"
    },
    "tags": []
   },
   "outputs": [],
   "source": [
    "df2=df2.drop('id',axis=1)"
   ]
  },
  {
   "cell_type": "code",
   "execution_count": 30,
   "id": "116a993c",
   "metadata": {
    "execution": {
     "iopub.execute_input": "2023-01-25T00:23:05.129907Z",
     "iopub.status.busy": "2023-01-25T00:23:05.128497Z",
     "iopub.status.idle": "2023-01-25T00:23:06.562357Z",
     "shell.execute_reply": "2023-01-25T00:23:06.560802Z"
    },
    "papermill": {
     "duration": 1.465351,
     "end_time": "2023-01-25T00:23:06.566310",
     "exception": false,
     "start_time": "2023-01-25T00:23:05.100959",
     "status": "completed"
    },
    "tags": []
   },
   "outputs": [],
   "source": [
    "import matplotlib.pyplot as plt\n",
    "import seaborn as sns"
   ]
  },
  {
   "cell_type": "code",
   "execution_count": 31,
   "id": "a39e77eb",
   "metadata": {
    "execution": {
     "iopub.execute_input": "2023-01-25T00:23:06.616456Z",
     "iopub.status.busy": "2023-01-25T00:23:06.615870Z",
     "iopub.status.idle": "2023-01-25T00:23:06.622271Z",
     "shell.execute_reply": "2023-01-25T00:23:06.621171Z"
    },
    "papermill": {
     "duration": 0.03572,
     "end_time": "2023-01-25T00:23:06.625280",
     "exception": false,
     "start_time": "2023-01-25T00:23:06.589560",
     "status": "completed"
    },
    "tags": []
   },
   "outputs": [],
   "source": [
    "import warnings\n",
    "warnings.filterwarnings('ignore')"
   ]
  },
  {
   "cell_type": "code",
   "execution_count": 32,
   "id": "fe173a20",
   "metadata": {
    "execution": {
     "iopub.execute_input": "2023-01-25T00:23:06.680649Z",
     "iopub.status.busy": "2023-01-25T00:23:06.679932Z",
     "iopub.status.idle": "2023-01-25T00:23:08.700408Z",
     "shell.execute_reply": "2023-01-25T00:23:08.698960Z"
    },
    "papermill": {
     "duration": 2.051822,
     "end_time": "2023-01-25T00:23:08.703824",
     "exception": false,
     "start_time": "2023-01-25T00:23:06.652002",
     "status": "completed"
    },
    "tags": []
   },
   "outputs": [
    {
     "data": {
      "image/png": "[encoded data removed]",
      "text/plain": [
       "<Figure size 1008x432 with 1 Axes>"
      ]
     },
     "metadata": {
      "needs_background": "light"
     },
     "output_type": "display_data"
    },
    {
     "data": {
      "image/png": "[encoded data removed]",
      "text/plain": [
       "<Figure size 1008x432 with 1 Axes>"
      ]
     },
     "metadata": {
      "needs_background": "light"
     },
     "output_type": "display_data"
    },
    {
     "data": {
      "image/png": "[encoded data removed]",
      "text/plain": [
       "<Figure size 1008x432 with 1 Axes>"
      ]
     },
     "metadata": {
      "needs_background": "light"
     },
     "output_type": "display_data"
    },
    {
     "data": {
      "image/png": "[encoded data removed]",
      "text/plain": [
       "<Figure size 1008x432 with 1 Axes>"
      ]
     },
     "metadata": {
      "needs_background": "light"
     },
     "output_type": "display_data"
    },
    {
     "data": {
      "image/png": "[encoded data removed]",
      "text/plain": [
       "<Figure size 1008x432 with 1 Axes>"
      ]
     },
     "metadata": {
      "needs_background": "light"
     },
     "output_type": "display_data"
    },
    {
     "data": {
      "image/png": "[encoded data removed]",
      "text/plain": [
       "<Figure size 1008x432 with 1 Axes>"
      ]
     },
     "metadata": {
      "needs_background": "light"
     },
     "output_type": "display_data"
    },
    {
     "data": {
      "image/png": "[encoded data removed]",
      "text/plain": [
       "<Figure size 1008x432 with 1 Axes>"
      ]
     },
     "metadata": {
      "needs_background": "light"
     },
     "output_type": "display_data"
    },
    {
     "data": {
      "image/png": "[encoded data removed]",
      "text/plain": [
       "<Figure size 1008x432 with 1 Axes>"
      ]
     },
     "metadata": {
      "needs_background": "light"
     },
     "output_type": "display_data"
    },
    {
     "data": {
      "image/png": "[encoded data removed]",
      "text/plain": [
       "<Figure size 1008x432 with 1 Axes>"
      ]
     },
     "metadata": {
      "needs_background": "light"
     },
     "output_type": "display_data"
    }
   ],
   "source": [
    "for i in df1.columns:\n",
    "    plt.figure(figsize=(14,6))\n",
    "    sns.boxplot(df1[i],data=df1,palette='hls')\n",
    "    plt.xticks(rotation=90)\n",
    "    plt.yticks(rotation=90)\n",
    "    plt.show()"
   ]
  },
  {
   "cell_type": "code",
   "execution_count": 33,
   "id": "5bb16972",
   "metadata": {
    "execution": {
     "iopub.execute_input": "2023-01-25T00:23:08.760888Z",
     "iopub.status.busy": "2023-01-25T00:23:08.759314Z",
     "iopub.status.idle": "2023-01-25T00:23:08.796242Z",
     "shell.execute_reply": "2023-01-25T00:23:08.794621Z"
    },
    "papermill": {
     "duration": 0.068693,
     "end_time": "2023-01-25T00:23:08.799382",
     "exception": false,
     "start_time": "2023-01-25T00:23:08.730689",
     "status": "completed"
    },
    "tags": []
   },
   "outputs": [
    {
     "name": "stdout",
     "output_type": "stream",
     "text": [
      "AveBedrms        0.067991\n",
      "AveOccup         0.734672\n",
      "AveRooms         1.501124\n",
      "HouseAge        18.000000\n",
      "Latitude         3.790000\n",
      "Longitude        3.780000\n",
      "MedHouseVal           NaN\n",
      "MedInc           2.085200\n",
      "Population     922.000000\n",
      "dtype: float64\n"
     ]
    }
   ],
   "source": [
    "Q1=df1.quantile(0.25)\n",
    "Q3=df2.quantile(0.75)\n",
    "IQR=Q3-Q1\n",
    "print(IQR)"
   ]
  },
  {
   "cell_type": "code",
   "execution_count": 34,
   "id": "ad2b19e9",
   "metadata": {
    "execution": {
     "iopub.execute_input": "2023-01-25T00:23:08.854810Z",
     "iopub.status.busy": "2023-01-25T00:23:08.854376Z",
     "iopub.status.idle": "2023-01-25T00:23:08.871328Z",
     "shell.execute_reply": "2023-01-25T00:23:08.870231Z"
    },
    "papermill": {
     "duration": 0.047896,
     "end_time": "2023-01-25T00:23:08.873947",
     "exception": false,
     "start_time": "2023-01-25T00:23:08.826051",
     "status": "completed"
    },
    "tags": []
   },
   "outputs": [],
   "source": [
    "df1_new = df1[~((df1 < (Q1 - 1.5 * IQR)) |(df1 > (Q3 + 1.5 * IQR))).any(axis=1)]"
   ]
  },
  {
   "cell_type": "code",
   "execution_count": 35,
   "id": "84cb24cc",
   "metadata": {
    "execution": {
     "iopub.execute_input": "2023-01-25T00:23:08.930398Z",
     "iopub.status.busy": "2023-01-25T00:23:08.929503Z",
     "iopub.status.idle": "2023-01-25T00:23:08.936197Z",
     "shell.execute_reply": "2023-01-25T00:23:08.935035Z"
    },
    "papermill": {
     "duration": 0.037464,
     "end_time": "2023-01-25T00:23:08.938569",
     "exception": false,
     "start_time": "2023-01-25T00:23:08.901105",
     "status": "completed"
    },
    "tags": []
   },
   "outputs": [
    {
     "data": {
      "text/plain": [
       "(30656, 9)"
      ]
     },
     "execution_count": 35,
     "metadata": {},
     "output_type": "execute_result"
    }
   ],
   "source": [
    "df1_new.shape"
   ]
  },
  {
   "cell_type": "code",
   "execution_count": 36,
   "id": "25af47dd",
   "metadata": {
    "execution": {
     "iopub.execute_input": "2023-01-25T00:23:08.990746Z",
     "iopub.status.busy": "2023-01-25T00:23:08.989937Z",
     "iopub.status.idle": "2023-01-25T00:23:10.573422Z",
     "shell.execute_reply": "2023-01-25T00:23:10.571490Z"
    },
    "papermill": {
     "duration": 1.614296,
     "end_time": "2023-01-25T00:23:10.577875",
     "exception": false,
     "start_time": "2023-01-25T00:23:08.963579",
     "status": "completed"
    },
    "tags": []
   },
   "outputs": [
    {
     "data": {
      "image/png": "[encoded data removed]",
      "text/plain": [
       "<Figure size 1008x432 with 1 Axes>"
      ]
     },
     "metadata": {
      "needs_background": "light"
     },
     "output_type": "display_data"
    },
    {
     "data": {
      "image/png": "[encoded data removed]",
      "text/plain": [
       "<Figure size 1008x432 with 1 Axes>"
      ]
     },
     "metadata": {
      "needs_background": "light"
     },
     "output_type": "display_data"
    },
    {
     "data": {
      "image/png": "[encoded data removed]",
      "text/plain": [
       "<Figure size 1008x432 with 1 Axes>"
      ]
     },
     "metadata": {
      "needs_background": "light"
     },
     "output_type": "display_data"
    },
    {
     "data": {
      "image/png": "[encoded data removed]",
      "text/plain": [
       "<Figure size 1008x432 with 1 Axes>"
      ]
     },
     "metadata": {
      "needs_background": "light"
     },
     "output_type": "display_data"
    },
    {
     "data": {
      "image/png": "[encoded data removed]",
      "text/plain": [
       "<Figure size 1008x432 with 1 Axes>"
      ]
     },
     "metadata": {
      "needs_background": "light"
     },
     "output_type": "display_data"
    },
    {
     "data": {
      "image/png": "[encoded data removed]",
      "text/plain": [
       "<Figure size 1008x432 with 1 Axes>"
      ]
     },
     "metadata": {
      "needs_background": "light"
     },
     "output_type": "display_data"
    },
    {
     "data": {
      "image/png": "[encoded data removed]",
      "text/plain": [
       "<Figure size 1008x432 with 1 Axes>"
      ]
     },
     "metadata": {
      "needs_background": "light"
     },
     "output_type": "display_data"
    },
    {
     "data": {
      "image/png": "[encoded data removed]",
      "text/plain": [
       "<Figure size 1008x432 with 1 Axes>"
      ]
     },
     "metadata": {
      "needs_background": "light"
     },
     "output_type": "display_data"
    }
   ],
   "source": [
    "for i in df2.columns:\n",
    "    plt.figure(figsize=(14,6))\n",
    "    sns.boxplot(df2[i],data=df2,palette='hls')\n",
    "    plt.xticks(rotation=90)\n",
    "    plt.yticks(rotation=90)\n",
    "    plt.show()"
   ]
  },
  {
   "cell_type": "code",
   "execution_count": 37,
   "id": "01061d76",
   "metadata": {
    "execution": {
     "iopub.execute_input": "2023-01-25T00:23:10.640050Z",
     "iopub.status.busy": "2023-01-25T00:23:10.639030Z",
     "iopub.status.idle": "2023-01-25T00:23:10.657562Z",
     "shell.execute_reply": "2023-01-25T00:23:10.655979Z"
    },
    "papermill": {
     "duration": 0.050836,
     "end_time": "2023-01-25T00:23:10.660414",
     "exception": false,
     "start_time": "2023-01-25T00:23:10.609578",
     "status": "completed"
    },
    "tags": []
   },
   "outputs": [
    {
     "name": "stdout",
     "output_type": "stream",
     "text": [
      "MedInc          2.097350\n",
      "HouseAge       18.000000\n",
      "AveRooms        1.502204\n",
      "AveBedrms       0.067835\n",
      "Population    919.000000\n",
      "AveOccup        0.729167\n",
      "Latitude        3.790000\n",
      "Longitude       3.780000\n",
      "dtype: float64\n"
     ]
    }
   ],
   "source": [
    "Q1=df2.quantile(0.25)\n",
    "Q3=df2.quantile(0.75)\n",
    "IQR=Q3-Q1\n",
    "print(IQR)"
   ]
  },
  {
   "cell_type": "code",
   "execution_count": 38,
   "id": "9c238a14",
   "metadata": {
    "execution": {
     "iopub.execute_input": "2023-01-25T00:23:10.718408Z",
     "iopub.status.busy": "2023-01-25T00:23:10.717962Z",
     "iopub.status.idle": "2023-01-25T00:23:10.731089Z",
     "shell.execute_reply": "2023-01-25T00:23:10.729602Z"
    },
    "papermill": {
     "duration": 0.045627,
     "end_time": "2023-01-25T00:23:10.734088",
     "exception": false,
     "start_time": "2023-01-25T00:23:10.688461",
     "status": "completed"
    },
    "tags": []
   },
   "outputs": [],
   "source": [
    "df2_new = df2[~((df2 < (Q1 - 1.5 * IQR)) |(df2 > (Q3 + 1.5 * IQR))).any(axis=1)]"
   ]
  },
  {
   "cell_type": "code",
   "execution_count": 39,
   "id": "1f8c1f97",
   "metadata": {
    "execution": {
     "iopub.execute_input": "2023-01-25T00:23:10.791645Z",
     "iopub.status.busy": "2023-01-25T00:23:10.790550Z",
     "iopub.status.idle": "2023-01-25T00:23:10.799142Z",
     "shell.execute_reply": "2023-01-25T00:23:10.797944Z"
    },
    "papermill": {
     "duration": 0.039748,
     "end_time": "2023-01-25T00:23:10.801620",
     "exception": false,
     "start_time": "2023-01-25T00:23:10.761872",
     "status": "completed"
    },
    "tags": []
   },
   "outputs": [
    {
     "data": {
      "text/plain": [
       "(20327, 8)"
      ]
     },
     "execution_count": 39,
     "metadata": {},
     "output_type": "execute_result"
    }
   ],
   "source": [
    "df2_new.shape"
   ]
  },
  {
   "cell_type": "code",
   "execution_count": 40,
   "id": "d8e21628",
   "metadata": {
    "execution": {
     "iopub.execute_input": "2023-01-25T00:23:10.859023Z",
     "iopub.status.busy": "2023-01-25T00:23:10.857766Z",
     "iopub.status.idle": "2023-01-25T00:23:41.270538Z",
     "shell.execute_reply": "2023-01-25T00:23:41.267060Z"
    },
    "papermill": {
     "duration": 30.508485,
     "end_time": "2023-01-25T00:23:41.337522",
     "exception": false,
     "start_time": "2023-01-25T00:23:10.829037",
     "status": "completed"
    },
    "tags": []
   },
   "outputs": [
    {
     "data": {
      "image/png": "[encoded data removed]",
      "text/plain": [
       "<Figure size 1008x432 with 1 Axes>"
      ]
     },
     "metadata": {
      "needs_background": "light"
     },
     "output_type": "display_data"
    },
    {
     "data": {
      "image/png": "[encoded data removed]",
      "text/plain": [
       "<Figure size 1008x432 with 1 Axes>"
      ]
     },
     "metadata": {
      "needs_background": "light"
     },
     "output_type": "display_data"
    },
    {
     "data": {
      "image/png": "[encoded data removed]",
      "text/plain": [
       "<Figure size 1008x432 with 1 Axes>"
      ]
     },
     "metadata": {
      "needs_background": "light"
     },
     "output_type": "display_data"
    },
    {
     "data": {
      "image/png": "[encoded data removed]",
      "text/plain": [
       "<Figure size 1008x432 with 1 Axes>"
      ]
     },
     "metadata": {
      "needs_background": "light"
     },
     "output_type": "display_data"
    },
    {
     "data": {
      "image/png": "[encoded data removed]",
      "text/plain": [
       "<Figure size 1008x432 with 1 Axes>"
      ]
     },
     "metadata": {
      "needs_background": "light"
     },
     "output_type": "display_data"
    },
    {
     "data": {
      "image/png": "[encoded data removed]",
      "text/plain": [
       "<Figure size 1008x432 with 1 Axes>"
      ]
     },
     "metadata": {
      "needs_background": "light"
     },
     "output_type": "display_data"
    },
    {
     "data": {
      "image/png": "[encoded data removed]",
      "text/plain": [
       "<Figure size 1008x432 with 1 Axes>"
      ]
     },
     "metadata": {
      "needs_background": "light"
     },
     "output_type": "display_data"
    },
    {
     "data": {
      "image/png": "[encoded data removed]",
      "text/plain": [
       "<Figure size 1008x432 with 1 Axes>"
      ]
     },
     "metadata": {
      "needs_background": "light"
     },
     "output_type": "display_data"
    },
    {
     "data": {
      "image/png": "[encoded data removed]",
      "text/plain": [
       "<Figure size 1008x432 with 1 Axes>"
      ]
     },
     "metadata": {
      "needs_background": "light"
     },
     "output_type": "display_data"
    }
   ],
   "source": [
    "for i in df1.columns:\n",
    "    plt.figure(figsize=(14,6))\n",
    "    sns.histplot(df1[i],kde=True,palette='hls')\n",
    "    plt.xticks(rotation=90)\n",
    "    plt.yticks(rotation=90)\n",
    "    plt.show()"
   ]
  },
  {
   "cell_type": "code",
   "execution_count": 41,
   "id": "39632ed2",
   "metadata": {
    "execution": {
     "iopub.execute_input": "2023-01-25T00:23:41.411402Z",
     "iopub.status.busy": "2023-01-25T00:23:41.410603Z",
     "iopub.status.idle": "2023-01-25T00:23:41.429081Z",
     "shell.execute_reply": "2023-01-25T00:23:41.427880Z"
    },
    "papermill": {
     "duration": 0.056337,
     "end_time": "2023-01-25T00:23:41.431832",
     "exception": false,
     "start_time": "2023-01-25T00:23:41.375495",
     "status": "completed"
    },
    "tags": []
   },
   "outputs": [],
   "source": [
    "corr1=df1_new.corr()"
   ]
  },
  {
   "cell_type": "code",
   "execution_count": 42,
   "id": "c71b395b",
   "metadata": {
    "execution": {
     "iopub.execute_input": "2023-01-25T00:23:41.497089Z",
     "iopub.status.busy": "2023-01-25T00:23:41.496610Z",
     "iopub.status.idle": "2023-01-25T00:23:41.515634Z",
     "shell.execute_reply": "2023-01-25T00:23:41.514461Z"
    },
    "papermill": {
     "duration": 0.053766,
     "end_time": "2023-01-25T00:23:41.517855",
     "exception": false,
     "start_time": "2023-01-25T00:23:41.464089",
     "status": "completed"
    },
    "tags": []
   },
   "outputs": [
    {
     "data": {
      "text/html": [
       "<div>\n",
       "<style scoped>\n",
       "    .dataframe tbody tr th:only-of-type {\n",
       "        vertical-align: middle;\n",
       "    }\n",
       "\n",
       "    .dataframe tbody tr th {\n",
       "        vertical-align: top;\n",
       "    }\n",
       "\n",
       "    .dataframe thead th {\n",
       "        text-align: right;\n",
       "    }\n",
       "</style>\n",
       "<table border=\"1\" class=\"dataframe\">\n",
       "  <thead>\n",
       "    <tr style=\"text-align: right;\">\n",
       "      <th></th>\n",
       "      <th>MedInc</th>\n",
       "      <th>HouseAge</th>\n",
       "      <th>AveRooms</th>\n",
       "      <th>AveBedrms</th>\n",
       "      <th>Population</th>\n",
       "      <th>AveOccup</th>\n",
       "      <th>Latitude</th>\n",
       "      <th>Longitude</th>\n",
       "      <th>MedHouseVal</th>\n",
       "    </tr>\n",
       "  </thead>\n",
       "  <tbody>\n",
       "    <tr>\n",
       "      <th>MedInc</th>\n",
       "      <td>1.000000</td>\n",
       "      <td>-0.121793</td>\n",
       "      <td>0.696461</td>\n",
       "      <td>-0.220468</td>\n",
       "      <td>-0.019969</td>\n",
       "      <td>0.013310</td>\n",
       "      <td>-0.065271</td>\n",
       "      <td>-0.043451</td>\n",
       "      <td>0.639832</td>\n",
       "    </tr>\n",
       "    <tr>\n",
       "      <th>HouseAge</th>\n",
       "      <td>-0.121793</td>\n",
       "      <td>1.000000</td>\n",
       "      <td>-0.172134</td>\n",
       "      <td>-0.044092</td>\n",
       "      <td>-0.225852</td>\n",
       "      <td>-0.035375</td>\n",
       "      <td>0.023630</td>\n",
       "      <td>-0.094562</td>\n",
       "      <td>0.114300</td>\n",
       "    </tr>\n",
       "    <tr>\n",
       "      <th>AveRooms</th>\n",
       "      <td>0.696461</td>\n",
       "      <td>-0.172134</td>\n",
       "      <td>1.000000</td>\n",
       "      <td>-0.091993</td>\n",
       "      <td>-0.064521</td>\n",
       "      <td>0.164314</td>\n",
       "      <td>0.109911</td>\n",
       "      <td>-0.098922</td>\n",
       "      <td>0.270024</td>\n",
       "    </tr>\n",
       "    <tr>\n",
       "      <th>AveBedrms</th>\n",
       "      <td>-0.220468</td>\n",
       "      <td>-0.044092</td>\n",
       "      <td>-0.091993</td>\n",
       "      <td>1.000000</td>\n",
       "      <td>0.047428</td>\n",
       "      <td>-0.106021</td>\n",
       "      <td>0.003081</td>\n",
       "      <td>0.020649</td>\n",
       "      <td>-0.085887</td>\n",
       "    </tr>\n",
       "    <tr>\n",
       "      <th>Population</th>\n",
       "      <td>-0.019969</td>\n",
       "      <td>-0.225852</td>\n",
       "      <td>-0.064521</td>\n",
       "      <td>0.047428</td>\n",
       "      <td>1.000000</td>\n",
       "      <td>0.150885</td>\n",
       "      <td>-0.084863</td>\n",
       "      <td>0.085472</td>\n",
       "      <td>-0.060665</td>\n",
       "    </tr>\n",
       "    <tr>\n",
       "      <th>AveOccup</th>\n",
       "      <td>0.013310</td>\n",
       "      <td>-0.035375</td>\n",
       "      <td>0.164314</td>\n",
       "      <td>-0.106021</td>\n",
       "      <td>0.150885</td>\n",
       "      <td>1.000000</td>\n",
       "      <td>-0.089959</td>\n",
       "      <td>0.126004</td>\n",
       "      <td>-0.259477</td>\n",
       "    </tr>\n",
       "    <tr>\n",
       "      <th>Latitude</th>\n",
       "      <td>-0.065271</td>\n",
       "      <td>0.023630</td>\n",
       "      <td>0.109911</td>\n",
       "      <td>0.003081</td>\n",
       "      <td>-0.084863</td>\n",
       "      <td>-0.089959</td>\n",
       "      <td>1.000000</td>\n",
       "      <td>-0.938385</td>\n",
       "      <td>-0.125948</td>\n",
       "    </tr>\n",
       "    <tr>\n",
       "      <th>Longitude</th>\n",
       "      <td>-0.043451</td>\n",
       "      <td>-0.094562</td>\n",
       "      <td>-0.098922</td>\n",
       "      <td>0.020649</td>\n",
       "      <td>0.085472</td>\n",
       "      <td>0.126004</td>\n",
       "      <td>-0.938385</td>\n",
       "      <td>1.000000</td>\n",
       "      <td>-0.050893</td>\n",
       "    </tr>\n",
       "    <tr>\n",
       "      <th>MedHouseVal</th>\n",
       "      <td>0.639832</td>\n",
       "      <td>0.114300</td>\n",
       "      <td>0.270024</td>\n",
       "      <td>-0.085887</td>\n",
       "      <td>-0.060665</td>\n",
       "      <td>-0.259477</td>\n",
       "      <td>-0.125948</td>\n",
       "      <td>-0.050893</td>\n",
       "      <td>1.000000</td>\n",
       "    </tr>\n",
       "  </tbody>\n",
       "</table>\n",
       "</div>"
      ],
      "text/plain": [
       "               MedInc  HouseAge  AveRooms  AveBedrms  Population  AveOccup  \\\n",
       "MedInc       1.000000 -0.121793  0.696461  -0.220468   -0.019969  0.013310   \n",
       "HouseAge    -0.121793  1.000000 -0.172134  -0.044092   -0.225852 -0.035375   \n",
       "AveRooms     0.696461 -0.172134  1.000000  -0.091993   -0.064521  0.164314   \n",
       "AveBedrms   -0.220468 -0.044092 -0.091993   1.000000    0.047428 -0.106021   \n",
       "Population  -0.019969 -0.225852 -0.064521   0.047428    1.000000  0.150885   \n",
       "AveOccup     0.013310 -0.035375  0.164314  -0.106021    0.150885  1.000000   \n",
       "Latitude    -0.065271  0.023630  0.109911   0.003081   -0.084863 -0.089959   \n",
       "Longitude   -0.043451 -0.094562 -0.098922   0.020649    0.085472  0.126004   \n",
       "MedHouseVal  0.639832  0.114300  0.270024  -0.085887   -0.060665 -0.259477   \n",
       "\n",
       "             Latitude  Longitude  MedHouseVal  \n",
       "MedInc      -0.065271  -0.043451     0.639832  \n",
       "HouseAge     0.023630  -0.094562     0.114300  \n",
       "AveRooms     0.109911  -0.098922     0.270024  \n",
       "AveBedrms    0.003081   0.020649    -0.085887  \n",
       "Population  -0.084863   0.085472    -0.060665  \n",
       "AveOccup    -0.089959   0.126004    -0.259477  \n",
       "Latitude     1.000000  -0.938385    -0.125948  \n",
       "Longitude   -0.938385   1.000000    -0.050893  \n",
       "MedHouseVal -0.125948  -0.050893     1.000000  "
      ]
     },
     "execution_count": 42,
     "metadata": {},
     "output_type": "execute_result"
    }
   ],
   "source": [
    "corr1"
   ]
  },
  {
   "cell_type": "code",
   "execution_count": 43,
   "id": "7977f17a",
   "metadata": {
    "execution": {
     "iopub.execute_input": "2023-01-25T00:23:41.630239Z",
     "iopub.status.busy": "2023-01-25T00:23:41.629508Z",
     "iopub.status.idle": "2023-01-25T00:23:42.401187Z",
     "shell.execute_reply": "2023-01-25T00:23:42.400246Z"
    },
    "papermill": {
     "duration": 0.845083,
     "end_time": "2023-01-25T00:23:42.403474",
     "exception": false,
     "start_time": "2023-01-25T00:23:41.558391",
     "status": "completed"
    },
    "tags": []
   },
   "outputs": [
    {
     "data": {
      "image/png": "[encoded data removed]",
      "text/plain": [
       "<Figure size 1008x432 with 2 Axes>"
      ]
     },
     "metadata": {
      "needs_background": "light"
     },
     "output_type": "display_data"
    }
   ],
   "source": [
    "plt.figure(figsize=(14,6))\n",
    "sns.heatmap(corr1,annot=True,cmap='coolwarm')\n",
    "plt.show()"
   ]
  },
  {
   "cell_type": "code",
   "execution_count": 44,
   "id": "076137f5",
   "metadata": {
    "execution": {
     "iopub.execute_input": "2023-01-25T00:23:42.473617Z",
     "iopub.status.busy": "2023-01-25T00:23:42.472871Z",
     "iopub.status.idle": "2023-01-25T00:23:42.483628Z",
     "shell.execute_reply": "2023-01-25T00:23:42.482680Z"
    },
    "papermill": {
     "duration": 0.050688,
     "end_time": "2023-01-25T00:23:42.486347",
     "exception": false,
     "start_time": "2023-01-25T00:23:42.435659",
     "status": "completed"
    },
    "tags": []
   },
   "outputs": [],
   "source": [
    "corr2=df2_new.corr()"
   ]
  },
  {
   "cell_type": "code",
   "execution_count": 45,
   "id": "8f4b290f",
   "metadata": {
    "execution": {
     "iopub.execute_input": "2023-01-25T00:23:42.554771Z",
     "iopub.status.busy": "2023-01-25T00:23:42.554007Z",
     "iopub.status.idle": "2023-01-25T00:23:42.571972Z",
     "shell.execute_reply": "2023-01-25T00:23:42.570583Z"
    },
    "papermill": {
     "duration": 0.054882,
     "end_time": "2023-01-25T00:23:42.574387",
     "exception": false,
     "start_time": "2023-01-25T00:23:42.519505",
     "status": "completed"
    },
    "tags": []
   },
   "outputs": [
    {
     "data": {
      "text/html": [
       "<div>\n",
       "<style scoped>\n",
       "    .dataframe tbody tr th:only-of-type {\n",
       "        vertical-align: middle;\n",
       "    }\n",
       "\n",
       "    .dataframe tbody tr th {\n",
       "        vertical-align: top;\n",
       "    }\n",
       "\n",
       "    .dataframe thead th {\n",
       "        text-align: right;\n",
       "    }\n",
       "</style>\n",
       "<table border=\"1\" class=\"dataframe\">\n",
       "  <thead>\n",
       "    <tr style=\"text-align: right;\">\n",
       "      <th></th>\n",
       "      <th>MedInc</th>\n",
       "      <th>HouseAge</th>\n",
       "      <th>AveRooms</th>\n",
       "      <th>AveBedrms</th>\n",
       "      <th>Population</th>\n",
       "      <th>AveOccup</th>\n",
       "      <th>Latitude</th>\n",
       "      <th>Longitude</th>\n",
       "    </tr>\n",
       "  </thead>\n",
       "  <tbody>\n",
       "    <tr>\n",
       "      <th>MedInc</th>\n",
       "      <td>1.000000</td>\n",
       "      <td>-0.135119</td>\n",
       "      <td>0.699506</td>\n",
       "      <td>-0.222035</td>\n",
       "      <td>-0.027705</td>\n",
       "      <td>0.004920</td>\n",
       "      <td>-0.066105</td>\n",
       "      <td>-0.039657</td>\n",
       "    </tr>\n",
       "    <tr>\n",
       "      <th>HouseAge</th>\n",
       "      <td>-0.135119</td>\n",
       "      <td>1.000000</td>\n",
       "      <td>-0.177665</td>\n",
       "      <td>-0.052257</td>\n",
       "      <td>-0.241461</td>\n",
       "      <td>-0.034786</td>\n",
       "      <td>0.013681</td>\n",
       "      <td>-0.080053</td>\n",
       "    </tr>\n",
       "    <tr>\n",
       "      <th>AveRooms</th>\n",
       "      <td>0.699506</td>\n",
       "      <td>-0.177665</td>\n",
       "      <td>1.000000</td>\n",
       "      <td>-0.083990</td>\n",
       "      <td>-0.071239</td>\n",
       "      <td>0.149369</td>\n",
       "      <td>0.113657</td>\n",
       "      <td>-0.100590</td>\n",
       "    </tr>\n",
       "    <tr>\n",
       "      <th>AveBedrms</th>\n",
       "      <td>-0.222035</td>\n",
       "      <td>-0.052257</td>\n",
       "      <td>-0.083990</td>\n",
       "      <td>1.000000</td>\n",
       "      <td>0.059616</td>\n",
       "      <td>-0.101494</td>\n",
       "      <td>0.010358</td>\n",
       "      <td>0.015702</td>\n",
       "    </tr>\n",
       "    <tr>\n",
       "      <th>Population</th>\n",
       "      <td>-0.027705</td>\n",
       "      <td>-0.241461</td>\n",
       "      <td>-0.071239</td>\n",
       "      <td>0.059616</td>\n",
       "      <td>1.000000</td>\n",
       "      <td>0.158499</td>\n",
       "      <td>-0.090892</td>\n",
       "      <td>0.089963</td>\n",
       "    </tr>\n",
       "    <tr>\n",
       "      <th>AveOccup</th>\n",
       "      <td>0.004920</td>\n",
       "      <td>-0.034786</td>\n",
       "      <td>0.149369</td>\n",
       "      <td>-0.101494</td>\n",
       "      <td>0.158499</td>\n",
       "      <td>1.000000</td>\n",
       "      <td>-0.099062</td>\n",
       "      <td>0.138032</td>\n",
       "    </tr>\n",
       "    <tr>\n",
       "      <th>Latitude</th>\n",
       "      <td>-0.066105</td>\n",
       "      <td>0.013681</td>\n",
       "      <td>0.113657</td>\n",
       "      <td>0.010358</td>\n",
       "      <td>-0.090892</td>\n",
       "      <td>-0.099062</td>\n",
       "      <td>1.000000</td>\n",
       "      <td>-0.936620</td>\n",
       "    </tr>\n",
       "    <tr>\n",
       "      <th>Longitude</th>\n",
       "      <td>-0.039657</td>\n",
       "      <td>-0.080053</td>\n",
       "      <td>-0.100590</td>\n",
       "      <td>0.015702</td>\n",
       "      <td>0.089963</td>\n",
       "      <td>0.138032</td>\n",
       "      <td>-0.936620</td>\n",
       "      <td>1.000000</td>\n",
       "    </tr>\n",
       "  </tbody>\n",
       "</table>\n",
       "</div>"
      ],
      "text/plain": [
       "              MedInc  HouseAge  AveRooms  AveBedrms  Population  AveOccup  \\\n",
       "MedInc      1.000000 -0.135119  0.699506  -0.222035   -0.027705  0.004920   \n",
       "HouseAge   -0.135119  1.000000 -0.177665  -0.052257   -0.241461 -0.034786   \n",
       "AveRooms    0.699506 -0.177665  1.000000  -0.083990   -0.071239  0.149369   \n",
       "AveBedrms  -0.222035 -0.052257 -0.083990   1.000000    0.059616 -0.101494   \n",
       "Population -0.027705 -0.241461 -0.071239   0.059616    1.000000  0.158499   \n",
       "AveOccup    0.004920 -0.034786  0.149369  -0.101494    0.158499  1.000000   \n",
       "Latitude   -0.066105  0.013681  0.113657   0.010358   -0.090892 -0.099062   \n",
       "Longitude  -0.039657 -0.080053 -0.100590   0.015702    0.089963  0.138032   \n",
       "\n",
       "            Latitude  Longitude  \n",
       "MedInc     -0.066105  -0.039657  \n",
       "HouseAge    0.013681  -0.080053  \n",
       "AveRooms    0.113657  -0.100590  \n",
       "AveBedrms   0.010358   0.015702  \n",
       "Population -0.090892   0.089963  \n",
       "AveOccup   -0.099062   0.138032  \n",
       "Latitude    1.000000  -0.936620  \n",
       "Longitude  -0.936620   1.000000  "
      ]
     },
     "execution_count": 45,
     "metadata": {},
     "output_type": "execute_result"
    }
   ],
   "source": [
    "corr2"
   ]
  },
  {
   "cell_type": "code",
   "execution_count": 46,
   "id": "4cf660b5",
   "metadata": {
    "execution": {
     "iopub.execute_input": "2023-01-25T00:23:42.644550Z",
     "iopub.status.busy": "2023-01-25T00:23:42.644064Z",
     "iopub.status.idle": "2023-01-25T00:23:43.266714Z",
     "shell.execute_reply": "2023-01-25T00:23:43.265532Z"
    },
    "papermill": {
     "duration": 0.661283,
     "end_time": "2023-01-25T00:23:43.269722",
     "exception": false,
     "start_time": "2023-01-25T00:23:42.608439",
     "status": "completed"
    },
    "tags": []
   },
   "outputs": [
    {
     "data": {
      "image/png": "[encoded data removed]",
      "text/plain": [
       "<Figure size 1008x432 with 2 Axes>"
      ]
     },
     "metadata": {
      "needs_background": "light"
     },
     "output_type": "display_data"
    }
   ],
   "source": [
    "plt.figure(figsize=(14,6))\n",
    "sns.heatmap(corr2,annot=True,cmap='coolwarm')\n",
    "plt.show()"
   ]
  },
  {
   "cell_type": "code",
   "execution_count": 47,
   "id": "6d0c58e1",
   "metadata": {
    "execution": {
     "iopub.execute_input": "2023-01-25T00:23:43.342455Z",
     "iopub.status.busy": "2023-01-25T00:23:43.341565Z",
     "iopub.status.idle": "2023-01-25T00:23:43.348415Z",
     "shell.execute_reply": "2023-01-25T00:23:43.347167Z"
    },
    "papermill": {
     "duration": 0.044808,
     "end_time": "2023-01-25T00:23:43.351216",
     "exception": false,
     "start_time": "2023-01-25T00:23:43.306408",
     "status": "completed"
    },
    "tags": []
   },
   "outputs": [],
   "source": [
    "X = df1_new.iloc[:, :-1].values\n",
    "y = df1_new.iloc[:, -1].values"
   ]
  },
  {
   "cell_type": "code",
   "execution_count": 48,
   "id": "2eefa1f1",
   "metadata": {
    "execution": {
     "iopub.execute_input": "2023-01-25T00:23:43.424486Z",
     "iopub.status.busy": "2023-01-25T00:23:43.423558Z",
     "iopub.status.idle": "2023-01-25T00:23:52.956489Z",
     "shell.execute_reply": "2023-01-25T00:23:52.954720Z"
    },
    "papermill": {
     "duration": 9.575325,
     "end_time": "2023-01-25T00:23:52.960571",
     "exception": false,
     "start_time": "2023-01-25T00:23:43.385246",
     "status": "completed"
    },
    "tags": []
   },
   "outputs": [
    {
     "name": "stdout",
     "output_type": "stream",
     "text": [
      "[0.44574457 0.07292358 0.07149685 0.04252575 0.04223793 0.12725704\n",
      " 0.09498525 0.10282903]\n"
     ]
    }
   ],
   "source": [
    "from sklearn.ensemble import ExtraTreesRegressor\n",
    "import matplotlib.pyplot as plt\n",
    "model = ExtraTreesRegressor()\n",
    "model.fit(X,y)\n",
    "\n",
    "print(model.feature_importances_)"
   ]
  },
  {
   "cell_type": "code",
   "execution_count": 49,
   "id": "adfabfc2",
   "metadata": {
    "execution": {
     "iopub.execute_input": "2023-01-25T00:23:53.046043Z",
     "iopub.status.busy": "2023-01-25T00:23:53.045497Z",
     "iopub.status.idle": "2023-01-25T00:23:53.052875Z",
     "shell.execute_reply": "2023-01-25T00:23:53.051437Z"
    },
    "papermill": {
     "duration": 0.053146,
     "end_time": "2023-01-25T00:23:53.055424",
     "exception": false,
     "start_time": "2023-01-25T00:23:53.002278",
     "status": "completed"
    },
    "tags": []
   },
   "outputs": [],
   "source": [
    "X= df1_new.iloc[:,:-1]"
   ]
  },
  {
   "cell_type": "code",
   "execution_count": 50,
   "id": "97ba5975",
   "metadata": {
    "execution": {
     "iopub.execute_input": "2023-01-25T00:23:53.130276Z",
     "iopub.status.busy": "2023-01-25T00:23:53.129159Z",
     "iopub.status.idle": "2023-01-25T00:23:53.478636Z",
     "shell.execute_reply": "2023-01-25T00:23:53.477229Z"
    },
    "papermill": {
     "duration": 0.389772,
     "end_time": "2023-01-25T00:23:53.481350",
     "exception": false,
     "start_time": "2023-01-25T00:23:53.091578",
     "status": "completed"
    },
    "tags": []
   },
   "outputs": [
    {
     "data": {
      "image/png": "[encoded data removed]",
      "text/plain": [
       "<Figure size 432x288 with 1 Axes>"
      ]
     },
     "metadata": {
      "needs_background": "light"
     },
     "output_type": "display_data"
    }
   ],
   "source": [
    "feat_importances =pd.Series(model.feature_importances_,index=X.columns)\n",
    "feat_importances.nlargest(10).plot(kind='barh')\n",
    "plt.show()"
   ]
  },
  {
   "cell_type": "code",
   "execution_count": 51,
   "id": "4d6b47f5",
   "metadata": {
    "execution": {
     "iopub.execute_input": "2023-01-25T00:23:53.554602Z",
     "iopub.status.busy": "2023-01-25T00:23:53.553129Z",
     "iopub.status.idle": "2023-01-25T00:23:53.560574Z",
     "shell.execute_reply": "2023-01-25T00:23:53.559436Z"
    },
    "papermill": {
     "duration": 0.046065,
     "end_time": "2023-01-25T00:23:53.562954",
     "exception": false,
     "start_time": "2023-01-25T00:23:53.516889",
     "status": "completed"
    },
    "tags": []
   },
   "outputs": [],
   "source": [
    "X1 = df2_new.iloc[:, :-1].values\n",
    "y1 = df2_new.iloc[:, -1].values"
   ]
  },
  {
   "cell_type": "code",
   "execution_count": 52,
   "id": "598ec650",
   "metadata": {
    "execution": {
     "iopub.execute_input": "2023-01-25T00:23:53.636427Z",
     "iopub.status.busy": "2023-01-25T00:23:53.635925Z",
     "iopub.status.idle": "2023-01-25T00:23:58.865412Z",
     "shell.execute_reply": "2023-01-25T00:23:58.863724Z"
    },
    "papermill": {
     "duration": 5.270607,
     "end_time": "2023-01-25T00:23:58.868343",
     "exception": false,
     "start_time": "2023-01-25T00:23:53.597736",
     "status": "completed"
    },
    "tags": []
   },
   "outputs": [
    {
     "name": "stdout",
     "output_type": "stream",
     "text": [
      "[0.01591422 0.01272812 0.00993345 0.0066247  0.00684304 0.01073572\n",
      " 0.93722074]\n"
     ]
    }
   ],
   "source": [
    "model1 = ExtraTreesRegressor()\n",
    "model1.fit(X1,y1)\n",
    "print(model1.feature_importances_)"
   ]
  },
  {
   "cell_type": "code",
   "execution_count": 53,
   "id": "c23fb57a",
   "metadata": {
    "execution": {
     "iopub.execute_input": "2023-01-25T00:23:58.937817Z",
     "iopub.status.busy": "2023-01-25T00:23:58.937331Z",
     "iopub.status.idle": "2023-01-25T00:23:58.943121Z",
     "shell.execute_reply": "2023-01-25T00:23:58.941895Z"
    },
    "papermill": {
     "duration": 0.043492,
     "end_time": "2023-01-25T00:23:58.945578",
     "exception": false,
     "start_time": "2023-01-25T00:23:58.902086",
     "status": "completed"
    },
    "tags": []
   },
   "outputs": [],
   "source": [
    "X1 = df2_new.iloc[:,:-1]"
   ]
  },
  {
   "cell_type": "code",
   "execution_count": 54,
   "id": "9338b189",
   "metadata": {
    "execution": {
     "iopub.execute_input": "2023-01-25T00:23:59.013468Z",
     "iopub.status.busy": "2023-01-25T00:23:59.013031Z",
     "iopub.status.idle": "2023-01-25T00:23:59.281542Z",
     "shell.execute_reply": "2023-01-25T00:23:59.280191Z"
    },
    "papermill": {
     "duration": 0.305803,
     "end_time": "2023-01-25T00:23:59.284317",
     "exception": false,
     "start_time": "2023-01-25T00:23:58.978514",
     "status": "completed"
    },
    "tags": []
   },
   "outputs": [
    {
     "data": {
      "image/png": "[encoded data removed]",
      "text/plain": [
       "<Figure size 432x288 with 1 Axes>"
      ]
     },
     "metadata": {
      "needs_background": "light"
     },
     "output_type": "display_data"
    }
   ],
   "source": [
    "feat_importances1=pd.Series(model1.feature_importances_,index=X1.columns)\n",
    "feat_importances1.nlargest(10).plot(kind='barh')\n",
    "plt.show()"
   ]
  },
  {
   "cell_type": "code",
   "execution_count": 55,
   "id": "c836d062",
   "metadata": {
    "execution": {
     "iopub.execute_input": "2023-01-25T00:23:59.354601Z",
     "iopub.status.busy": "2023-01-25T00:23:59.354148Z",
     "iopub.status.idle": "2023-01-25T00:23:59.364973Z",
     "shell.execute_reply": "2023-01-25T00:23:59.363698Z"
    },
    "papermill": {
     "duration": 0.048674,
     "end_time": "2023-01-25T00:23:59.367647",
     "exception": false,
     "start_time": "2023-01-25T00:23:59.318973",
     "status": "completed"
    },
    "tags": []
   },
   "outputs": [],
   "source": [
    "from sklearn.model_selection import train_test_split\n",
    "X_train,X_test,y_train,y_test=train_test_split(X,y,\n",
    "                                              test_size=0.2,\n",
    "                                              random_state=0)"
   ]
  },
  {
   "cell_type": "code",
   "execution_count": 56,
   "id": "70c5699c",
   "metadata": {
    "execution": {
     "iopub.execute_input": "2023-01-25T00:23:59.438278Z",
     "iopub.status.busy": "2023-01-25T00:23:59.437873Z",
     "iopub.status.idle": "2023-01-25T00:23:59.451875Z",
     "shell.execute_reply": "2023-01-25T00:23:59.450744Z"
    },
    "papermill": {
     "duration": 0.052196,
     "end_time": "2023-01-25T00:23:59.454468",
     "exception": false,
     "start_time": "2023-01-25T00:23:59.402272",
     "status": "completed"
    },
    "tags": []
   },
   "outputs": [],
   "source": [
    "from sklearn.preprocessing import StandardScaler\n",
    "sc=StandardScaler()\n",
    "X_train=sc.fit_transform(X_train)\n",
    "X_test=sc.transform(X_test)"
   ]
  },
  {
   "cell_type": "code",
   "execution_count": 57,
   "id": "26eed321",
   "metadata": {
    "execution": {
     "iopub.execute_input": "2023-01-25T00:23:59.526453Z",
     "iopub.status.busy": "2023-01-25T00:23:59.525675Z",
     "iopub.status.idle": "2023-01-25T00:23:59.550878Z",
     "shell.execute_reply": "2023-01-25T00:23:59.549260Z"
    },
    "papermill": {
     "duration": 0.064483,
     "end_time": "2023-01-25T00:23:59.553570",
     "exception": false,
     "start_time": "2023-01-25T00:23:59.489087",
     "status": "completed"
    },
    "tags": []
   },
   "outputs": [
    {
     "data": {
      "text/plain": [
       "LinearRegression()"
      ]
     },
     "execution_count": 57,
     "metadata": {},
     "output_type": "execute_result"
    }
   ],
   "source": [
    "from sklearn.linear_model import LinearRegression\n",
    "lr=LinearRegression()\n",
    "lr.fit(X_train,y_train)"
   ]
  },
  {
   "cell_type": "code",
   "execution_count": 58,
   "id": "d3f6b5c0",
   "metadata": {
    "execution": {
     "iopub.execute_input": "2023-01-25T00:23:59.624904Z",
     "iopub.status.busy": "2023-01-25T00:23:59.623585Z",
     "iopub.status.idle": "2023-01-25T00:23:59.640479Z",
     "shell.execute_reply": "2023-01-25T00:23:59.638369Z"
    },
    "papermill": {
     "duration": 0.058341,
     "end_time": "2023-01-25T00:23:59.645473",
     "exception": false,
     "start_time": "2023-01-25T00:23:59.587132",
     "status": "completed"
    },
    "tags": []
   },
   "outputs": [],
   "source": [
    "y_pred=lr.predict(X_test)"
   ]
  },
  {
   "cell_type": "code",
   "execution_count": 59,
   "id": "b96925b6",
   "metadata": {
    "execution": {
     "iopub.execute_input": "2023-01-25T00:23:59.793802Z",
     "iopub.status.busy": "2023-01-25T00:23:59.793340Z",
     "iopub.status.idle": "2023-01-25T00:23:59.798633Z",
     "shell.execute_reply": "2023-01-25T00:23:59.797697Z"
    },
    "papermill": {
     "duration": 0.044463,
     "end_time": "2023-01-25T00:23:59.800974",
     "exception": false,
     "start_time": "2023-01-25T00:23:59.756511",
     "status": "completed"
    },
    "tags": []
   },
   "outputs": [],
   "source": [
    "from sklearn.metrics import mean_absolute_error,mean_squared_error,r2_score\n",
    "import numpy as np"
   ]
  },
  {
   "cell_type": "code",
   "execution_count": 60,
   "id": "5d344f56",
   "metadata": {
    "execution": {
     "iopub.execute_input": "2023-01-25T00:23:59.871592Z",
     "iopub.status.busy": "2023-01-25T00:23:59.870808Z",
     "iopub.status.idle": "2023-01-25T00:23:59.879725Z",
     "shell.execute_reply": "2023-01-25T00:23:59.878411Z"
    },
    "papermill": {
     "duration": 0.047728,
     "end_time": "2023-01-25T00:23:59.882704",
     "exception": false,
     "start_time": "2023-01-25T00:23:59.834976",
     "status": "completed"
    },
    "tags": []
   },
   "outputs": [
    {
     "name": "stdout",
     "output_type": "stream",
     "text": [
      "MAE 0.5032595383008663\n",
      "MSE 0.45202049772162683\n",
      "RMSE 0.6723246966471088\n",
      "R2 0.6027951638867182\n"
     ]
    }
   ],
   "source": [
    "print('MAE',mean_absolute_error(y_test,y_pred))\n",
    "print('MSE',mean_squared_error(y_test,y_pred))\n",
    "print('RMSE',np.sqrt(mean_squared_error(y_test,y_pred)))\n",
    "r2=r2_score(y_test,y_pred)\n",
    "print('R2',r2)"
   ]
  },
  {
   "cell_type": "code",
   "execution_count": 61,
   "id": "33ec6d5b",
   "metadata": {
    "execution": {
     "iopub.execute_input": "2023-01-25T00:23:59.953346Z",
     "iopub.status.busy": "2023-01-25T00:23:59.952586Z",
     "iopub.status.idle": "2023-01-25T00:24:00.235189Z",
     "shell.execute_reply": "2023-01-25T00:24:00.234170Z"
    },
    "papermill": {
     "duration": 0.320559,
     "end_time": "2023-01-25T00:24:00.237742",
     "exception": false,
     "start_time": "2023-01-25T00:23:59.917183",
     "status": "completed"
    },
    "tags": []
   },
   "outputs": [
    {
     "data": {
      "text/plain": [
       "DecisionTreeRegressor()"
      ]
     },
     "execution_count": 61,
     "metadata": {},
     "output_type": "execute_result"
    }
   ],
   "source": [
    "from sklearn.tree import DecisionTreeRegressor\n",
    "dt=DecisionTreeRegressor()\n",
    "dt.fit(X_train,y_train)"
   ]
  },
  {
   "cell_type": "code",
   "execution_count": 62,
   "id": "ce4d539e",
   "metadata": {
    "execution": {
     "iopub.execute_input": "2023-01-25T00:24:00.308629Z",
     "iopub.status.busy": "2023-01-25T00:24:00.307899Z",
     "iopub.status.idle": "2023-01-25T00:24:00.316121Z",
     "shell.execute_reply": "2023-01-25T00:24:00.315121Z"
    },
    "papermill": {
     "duration": 0.047355,
     "end_time": "2023-01-25T00:24:00.318780",
     "exception": false,
     "start_time": "2023-01-25T00:24:00.271425",
     "status": "completed"
    },
    "tags": []
   },
   "outputs": [],
   "source": [
    "y_pred=dt.predict(X_test)"
   ]
  },
  {
   "cell_type": "code",
   "execution_count": 63,
   "id": "1478f7c4",
   "metadata": {
    "execution": {
     "iopub.execute_input": "2023-01-25T00:24:00.393209Z",
     "iopub.status.busy": "2023-01-25T00:24:00.391874Z",
     "iopub.status.idle": "2023-01-25T00:24:00.402462Z",
     "shell.execute_reply": "2023-01-25T00:24:00.400663Z"
    },
    "papermill": {
     "duration": 0.050521,
     "end_time": "2023-01-25T00:24:00.405975",
     "exception": false,
     "start_time": "2023-01-25T00:24:00.355454",
     "status": "completed"
    },
    "tags": []
   },
   "outputs": [
    {
     "name": "stdout",
     "output_type": "stream",
     "text": [
      "MAE 0.5904787328767124\n",
      "MSE 0.7044042083114644\n",
      "RMSE 0.8392879174106253\n",
      "R2 0.38101754338545646\n"
     ]
    }
   ],
   "source": [
    "print('MAE',mean_absolute_error(y_test,y_pred))\n",
    "print('MSE',mean_squared_error(y_test,y_pred))\n",
    "print('RMSE',np.sqrt(mean_squared_error(y_test,y_pred)))\n",
    "r2=r2_score(y_test,y_pred)\n",
    "print('R2',r2)"
   ]
  },
  {
   "cell_type": "code",
   "execution_count": 64,
   "id": "488bd1cd",
   "metadata": {
    "execution": {
     "iopub.execute_input": "2023-01-25T00:24:00.478826Z",
     "iopub.status.busy": "2023-01-25T00:24:00.477590Z",
     "iopub.status.idle": "2023-01-25T00:24:18.053100Z",
     "shell.execute_reply": "2023-01-25T00:24:18.051870Z"
    },
    "papermill": {
     "duration": 17.614584,
     "end_time": "2023-01-25T00:24:18.055869",
     "exception": false,
     "start_time": "2023-01-25T00:24:00.441285",
     "status": "completed"
    },
    "tags": []
   },
   "outputs": [
    {
     "data": {
      "text/plain": [
       "RandomForestRegressor(random_state=0)"
      ]
     },
     "execution_count": 64,
     "metadata": {},
     "output_type": "execute_result"
    }
   ],
   "source": [
    "from sklearn.ensemble import RandomForestRegressor\n",
    "rf=RandomForestRegressor(n_estimators=100,random_state=0)\n",
    "rf.fit(X_train,y_train)"
   ]
  },
  {
   "cell_type": "code",
   "execution_count": 65,
   "id": "1aad8f96",
   "metadata": {
    "execution": {
     "iopub.execute_input": "2023-01-25T00:24:18.132120Z",
     "iopub.status.busy": "2023-01-25T00:24:18.131448Z",
     "iopub.status.idle": "2023-01-25T00:24:18.420238Z",
     "shell.execute_reply": "2023-01-25T00:24:18.419102Z"
    },
    "papermill": {
     "duration": 0.330038,
     "end_time": "2023-01-25T00:24:18.423003",
     "exception": false,
     "start_time": "2023-01-25T00:24:18.092965",
     "status": "completed"
    },
    "tags": []
   },
   "outputs": [],
   "source": [
    "y_pred=rf.predict(X_test)"
   ]
  },
  {
   "cell_type": "code",
   "execution_count": 66,
   "id": "0825cda7",
   "metadata": {
    "execution": {
     "iopub.execute_input": "2023-01-25T00:24:18.500819Z",
     "iopub.status.busy": "2023-01-25T00:24:18.499114Z",
     "iopub.status.idle": "2023-01-25T00:24:18.510513Z",
     "shell.execute_reply": "2023-01-25T00:24:18.508555Z"
    },
    "papermill": {
     "duration": 0.053552,
     "end_time": "2023-01-25T00:24:18.513287",
     "exception": false,
     "start_time": "2023-01-25T00:24:18.459735",
     "status": "completed"
    },
    "tags": []
   },
   "outputs": [
    {
     "name": "stdout",
     "output_type": "stream",
     "text": [
      "MAE 0.41630340068493144\n",
      "MSE 0.3387727172678276\n",
      "RMSE 0.5820418518180867\n",
      "R2  0.7023096025063721\n"
     ]
    }
   ],
   "source": [
    "print(\"MAE\",mean_absolute_error(y_test,y_pred))\n",
    "print(\"MSE\",mean_squared_error(y_test,y_pred))\n",
    "print(\"RMSE\",np.sqrt(mean_squared_error(y_test,y_pred)))\n",
    "r2 = r2_score(y_test,y_pred)\n",
    "print('R2 ',r2)"
   ]
  },
  {
   "cell_type": "code",
   "execution_count": 67,
   "id": "69aa4b13",
   "metadata": {
    "execution": {
     "iopub.execute_input": "2023-01-25T00:24:18.589564Z",
     "iopub.status.busy": "2023-01-25T00:24:18.588724Z",
     "iopub.status.idle": "2023-01-25T00:24:51.659610Z",
     "shell.execute_reply": "2023-01-25T00:24:51.658618Z"
    },
    "papermill": {
     "duration": 33.145838,
     "end_time": "2023-01-25T00:24:51.697542",
     "exception": false,
     "start_time": "2023-01-25T00:24:18.551704",
     "status": "completed"
    },
    "tags": []
   },
   "outputs": [
    {
     "data": {
      "text/plain": [
       "SVR()"
      ]
     },
     "execution_count": 67,
     "metadata": {},
     "output_type": "execute_result"
    }
   ],
   "source": [
    "from sklearn.svm import SVR\n",
    "sv=SVR(kernel='rbf')\n",
    "sv.fit(X_train,y_train)"
   ]
  },
  {
   "cell_type": "code",
   "execution_count": 68,
   "id": "723857cd",
   "metadata": {
    "execution": {
     "iopub.execute_input": "2023-01-25T00:24:51.797706Z",
     "iopub.status.busy": "2023-01-25T00:24:51.796322Z",
     "iopub.status.idle": "2023-01-25T00:24:58.682604Z",
     "shell.execute_reply": "2023-01-25T00:24:58.680947Z"
    },
    "papermill": {
     "duration": 6.943707,
     "end_time": "2023-01-25T00:24:58.685830",
     "exception": false,
     "start_time": "2023-01-25T00:24:51.742123",
     "status": "completed"
    },
    "tags": []
   },
   "outputs": [],
   "source": [
    "y_pred=sv.predict(X_test)"
   ]
  },
  {
   "cell_type": "code",
   "execution_count": 69,
   "id": "847e6924",
   "metadata": {
    "execution": {
     "iopub.execute_input": "2023-01-25T00:24:58.762358Z",
     "iopub.status.busy": "2023-01-25T00:24:58.761122Z",
     "iopub.status.idle": "2023-01-25T00:24:58.771240Z",
     "shell.execute_reply": "2023-01-25T00:24:58.769912Z"
    },
    "papermill": {
     "duration": 0.050384,
     "end_time": "2023-01-25T00:24:58.774427",
     "exception": false,
     "start_time": "2023-01-25T00:24:58.724043",
     "status": "completed"
    },
    "tags": []
   },
   "outputs": [
    {
     "name": "stdout",
     "output_type": "stream",
     "text": [
      "MAE 0.44031435968283145\n",
      "MSE 0.39411176027876144\n",
      "RMSE 0.6277832112112918\n",
      "R2 0.6536814194469379\n"
     ]
    }
   ],
   "source": [
    "print('MAE',mean_absolute_error(y_test,y_pred))\n",
    "print(\"MSE\",mean_squared_error(y_test,y_pred))\n",
    "print('RMSE',np.sqrt(mean_squared_error(y_test,y_pred)))\n",
    "r2=r2_score(y_test,y_pred)\n",
    "print('R2',r2)"
   ]
  },
  {
   "cell_type": "code",
   "execution_count": 70,
   "id": "aa62f2ce",
   "metadata": {
    "execution": {
     "iopub.execute_input": "2023-01-25T00:24:58.845282Z",
     "iopub.status.busy": "2023-01-25T00:24:58.844863Z",
     "iopub.status.idle": "2023-01-25T00:25:07.059881Z",
     "shell.execute_reply": "2023-01-25T00:25:07.058589Z"
    },
    "papermill": {
     "duration": 8.254345,
     "end_time": "2023-01-25T00:25:07.063064",
     "exception": false,
     "start_time": "2023-01-25T00:24:58.808719",
     "status": "completed"
    },
    "tags": []
   },
   "outputs": [],
   "source": [
    "from tensorflow.keras.models import Sequential\n",
    "from tensorflow.keras.layers import Dense"
   ]
  },
  {
   "cell_type": "code",
   "execution_count": 71,
   "id": "22758c42",
   "metadata": {
    "execution": {
     "iopub.execute_input": "2023-01-25T00:25:07.140747Z",
     "iopub.status.busy": "2023-01-25T00:25:07.139888Z",
     "iopub.status.idle": "2023-01-25T00:25:07.295277Z",
     "shell.execute_reply": "2023-01-25T00:25:07.293879Z"
    },
    "papermill": {
     "duration": 0.197774,
     "end_time": "2023-01-25T00:25:07.298518",
     "exception": false,
     "start_time": "2023-01-25T00:25:07.100744",
     "status": "completed"
    },
    "tags": []
   },
   "outputs": [
    {
     "name": "stderr",
     "output_type": "stream",
     "text": [
      "2023-01-25 00:25:07.182647: I tensorflow/core/common_runtime/process_util.cc:146] Creating new thread pool with default inter op setting: 2. Tune using inter_op_parallelism_threads for best performance.\n"
     ]
    }
   ],
   "source": [
    "model=Sequential()\n",
    "model.add(Dense(13,input_shape=(8,),kernel_initializer='normal',\n",
    "               activation='relu'))\n",
    "model.add(Dense(1, kernel_initializer='normal'))\n",
    "model.compile(loss='mean_squared_error',optimizer='adam')"
   ]
  },
  {
   "cell_type": "code",
   "execution_count": 72,
   "id": "96d800da",
   "metadata": {
    "execution": {
     "iopub.execute_input": "2023-01-25T00:25:07.373246Z",
     "iopub.status.busy": "2023-01-25T00:25:07.372752Z",
     "iopub.status.idle": "2023-01-25T00:27:52.740319Z",
     "shell.execute_reply": "2023-01-25T00:27:52.737965Z"
    },
    "papermill": {
     "duration": 165.409044,
     "end_time": "2023-01-25T00:27:52.743318",
     "exception": false,
     "start_time": "2023-01-25T00:25:07.334274",
     "status": "completed"
    },
    "tags": []
   },
   "outputs": [
    {
     "name": "stderr",
     "output_type": "stream",
     "text": [
      "2023-01-25 00:25:07.694220: I tensorflow/compiler/mlir/mlir_graph_optimization_pass.cc:185] None of the MLIR Optimization Passes are enabled (registered 2)\n"
     ]
    },
    {
     "name": "stdout",
     "output_type": "stream",
     "text": [
      "Epoch 1/100\n",
      "767/767 [==============================] - 2s 2ms/step - loss: 1.2891 - val_loss: 0.4713\n",
      "Epoch 2/100\n",
      "767/767 [==============================] - 2s 2ms/step - loss: 0.4692 - val_loss: 0.4271\n",
      "Epoch 3/100\n",
      "767/767 [==============================] - 2s 2ms/step - loss: 0.4473 - val_loss: 0.4212\n",
      "Epoch 4/100\n",
      "767/767 [==============================] - 2s 2ms/step - loss: 0.4426 - val_loss: 0.4182\n",
      "Epoch 5/100\n",
      "767/767 [==============================] - 2s 2ms/step - loss: 0.4401 - val_loss: 0.4177\n",
      "Epoch 6/100\n",
      "767/767 [==============================] - 2s 2ms/step - loss: 0.4383 - val_loss: 0.4153\n",
      "Epoch 7/100\n",
      "767/767 [==============================] - 2s 2ms/step - loss: 0.4369 - val_loss: 0.4133\n",
      "Epoch 8/100\n",
      "767/767 [==============================] - 1s 2ms/step - loss: 0.4360 - val_loss: 0.4191\n",
      "Epoch 9/100\n",
      "767/767 [==============================] - 2s 2ms/step - loss: 0.4357 - val_loss: 0.4167\n",
      "Epoch 10/100\n",
      "767/767 [==============================] - 1s 2ms/step - loss: 0.4342 - val_loss: 0.4112\n",
      "Epoch 11/100\n",
      "767/767 [==============================] - 2s 2ms/step - loss: 0.4331 - val_loss: 0.4114\n",
      "Epoch 12/100\n",
      "767/767 [==============================] - 1s 2ms/step - loss: 0.4324 - val_loss: 0.4115\n",
      "Epoch 13/100\n",
      "767/767 [==============================] - 2s 2ms/step - loss: 0.4319 - val_loss: 0.4104\n",
      "Epoch 14/100\n",
      "767/767 [==============================] - 2s 2ms/step - loss: 0.4316 - val_loss: 0.4110\n",
      "Epoch 15/100\n",
      "767/767 [==============================] - 1s 2ms/step - loss: 0.4314 - val_loss: 0.4109\n",
      "Epoch 16/100\n",
      "767/767 [==============================] - 2s 2ms/step - loss: 0.4308 - val_loss: 0.4128\n",
      "Epoch 17/100\n",
      "767/767 [==============================] - 2s 2ms/step - loss: 0.4302 - val_loss: 0.4093\n",
      "Epoch 18/100\n",
      "767/767 [==============================] - 1s 2ms/step - loss: 0.4304 - val_loss: 0.4129\n",
      "Epoch 19/100\n",
      "767/767 [==============================] - 2s 2ms/step - loss: 0.4298 - val_loss: 0.4160\n",
      "Epoch 20/100\n",
      "767/767 [==============================] - 2s 2ms/step - loss: 0.4303 - val_loss: 0.4105\n",
      "Epoch 21/100\n",
      "767/767 [==============================] - 2s 2ms/step - loss: 0.4298 - val_loss: 0.4090\n",
      "Epoch 22/100\n",
      "767/767 [==============================] - 2s 2ms/step - loss: 0.4295 - val_loss: 0.4084\n",
      "Epoch 23/100\n",
      "767/767 [==============================] - 2s 2ms/step - loss: 0.4294 - val_loss: 0.4100\n",
      "Epoch 24/100\n",
      "767/767 [==============================] - 2s 2ms/step - loss: 0.4288 - val_loss: 0.4081\n",
      "Epoch 25/100\n",
      "767/767 [==============================] - 2s 2ms/step - loss: 0.4293 - val_loss: 0.4102\n",
      "Epoch 26/100\n",
      "767/767 [==============================] - 2s 2ms/step - loss: 0.4293 - val_loss: 0.4094\n",
      "Epoch 27/100\n",
      "767/767 [==============================] - 2s 2ms/step - loss: 0.4285 - val_loss: 0.4093\n",
      "Epoch 28/100\n",
      "767/767 [==============================] - 2s 2ms/step - loss: 0.4283 - val_loss: 0.4100\n",
      "Epoch 29/100\n",
      "767/767 [==============================] - 2s 2ms/step - loss: 0.4288 - val_loss: 0.4074\n",
      "Epoch 30/100\n",
      "767/767 [==============================] - 2s 2ms/step - loss: 0.4284 - val_loss: 0.4086\n",
      "Epoch 31/100\n",
      "767/767 [==============================] - 2s 2ms/step - loss: 0.4284 - val_loss: 0.4079\n",
      "Epoch 32/100\n",
      "767/767 [==============================] - 2s 2ms/step - loss: 0.4283 - val_loss: 0.4081\n",
      "Epoch 33/100\n",
      "767/767 [==============================] - 2s 2ms/step - loss: 0.4280 - val_loss: 0.4081\n",
      "Epoch 34/100\n",
      "767/767 [==============================] - 2s 2ms/step - loss: 0.4280 - val_loss: 0.4110\n",
      "Epoch 35/100\n",
      "767/767 [==============================] - 2s 2ms/step - loss: 0.4278 - val_loss: 0.4072\n",
      "Epoch 36/100\n",
      "767/767 [==============================] - 1s 2ms/step - loss: 0.4276 - val_loss: 0.4104\n",
      "Epoch 37/100\n",
      "767/767 [==============================] - 1s 2ms/step - loss: 0.4275 - val_loss: 0.4090\n",
      "Epoch 38/100\n",
      "767/767 [==============================] - 2s 2ms/step - loss: 0.4276 - val_loss: 0.4091\n",
      "Epoch 39/100\n",
      "767/767 [==============================] - 2s 2ms/step - loss: 0.4273 - val_loss: 0.4110\n",
      "Epoch 40/100\n",
      "767/767 [==============================] - 1s 2ms/step - loss: 0.4279 - val_loss: 0.4073\n",
      "Epoch 41/100\n",
      "767/767 [==============================] - 2s 2ms/step - loss: 0.4271 - val_loss: 0.4072\n",
      "Epoch 42/100\n",
      "767/767 [==============================] - 2s 2ms/step - loss: 0.4270 - val_loss: 0.4068\n",
      "Epoch 43/100\n",
      "767/767 [==============================] - 2s 2ms/step - loss: 0.4274 - val_loss: 0.4080\n",
      "Epoch 44/100\n",
      "767/767 [==============================] - 2s 2ms/step - loss: 0.4272 - val_loss: 0.4078\n",
      "Epoch 45/100\n",
      "767/767 [==============================] - 2s 2ms/step - loss: 0.4274 - val_loss: 0.4065\n",
      "Epoch 46/100\n",
      "767/767 [==============================] - 2s 2ms/step - loss: 0.4271 - val_loss: 0.4099\n",
      "Epoch 47/100\n",
      "767/767 [==============================] - 2s 2ms/step - loss: 0.4276 - val_loss: 0.4056\n",
      "Epoch 48/100\n",
      "767/767 [==============================] - 2s 2ms/step - loss: 0.4272 - val_loss: 0.4074\n",
      "Epoch 49/100\n",
      "767/767 [==============================] - 1s 2ms/step - loss: 0.4270 - val_loss: 0.4069\n",
      "Epoch 50/100\n",
      "767/767 [==============================] - 1s 2ms/step - loss: 0.4270 - val_loss: 0.4091\n",
      "Epoch 51/100\n",
      "767/767 [==============================] - 2s 2ms/step - loss: 0.4269 - val_loss: 0.4076\n",
      "Epoch 52/100\n",
      "767/767 [==============================] - 1s 2ms/step - loss: 0.4269 - val_loss: 0.4099\n",
      "Epoch 53/100\n",
      "767/767 [==============================] - 1s 2ms/step - loss: 0.4267 - val_loss: 0.4055\n",
      "Epoch 54/100\n",
      "767/767 [==============================] - 2s 2ms/step - loss: 0.4270 - val_loss: 0.4102\n",
      "Epoch 55/100\n",
      "767/767 [==============================] - 2s 2ms/step - loss: 0.4269 - val_loss: 0.4061\n",
      "Epoch 56/100\n",
      "767/767 [==============================] - 2s 2ms/step - loss: 0.4265 - val_loss: 0.4091\n",
      "Epoch 57/100\n",
      "767/767 [==============================] - 2s 2ms/step - loss: 0.4266 - val_loss: 0.4098\n",
      "Epoch 58/100\n",
      "767/767 [==============================] - 2s 2ms/step - loss: 0.4265 - val_loss: 0.4068\n",
      "Epoch 59/100\n",
      "767/767 [==============================] - 2s 2ms/step - loss: 0.4277 - val_loss: 0.4064\n",
      "Epoch 60/100\n",
      "767/767 [==============================] - 2s 2ms/step - loss: 0.4268 - val_loss: 0.4065\n",
      "Epoch 61/100\n",
      "767/767 [==============================] - 2s 2ms/step - loss: 0.4266 - val_loss: 0.4081\n",
      "Epoch 62/100\n",
      "767/767 [==============================] - 2s 2ms/step - loss: 0.4269 - val_loss: 0.4058\n",
      "Epoch 63/100\n",
      "767/767 [==============================] - 1s 2ms/step - loss: 0.4270 - val_loss: 0.4065\n",
      "Epoch 64/100\n",
      "767/767 [==============================] - 2s 2ms/step - loss: 0.4266 - val_loss: 0.4050\n",
      "Epoch 65/100\n",
      "767/767 [==============================] - 2s 2ms/step - loss: 0.4263 - val_loss: 0.4071\n",
      "Epoch 66/100\n",
      "767/767 [==============================] - 2s 2ms/step - loss: 0.4265 - val_loss: 0.4056\n",
      "Epoch 67/100\n",
      "767/767 [==============================] - 2s 2ms/step - loss: 0.4265 - val_loss: 0.4077\n",
      "Epoch 68/100\n",
      "767/767 [==============================] - 2s 2ms/step - loss: 0.4263 - val_loss: 0.4072\n",
      "Epoch 69/100\n",
      "767/767 [==============================] - 2s 2ms/step - loss: 0.4266 - val_loss: 0.4056\n",
      "Epoch 70/100\n",
      "767/767 [==============================] - 2s 2ms/step - loss: 0.4266 - val_loss: 0.4090\n",
      "Epoch 71/100\n",
      "767/767 [==============================] - 2s 2ms/step - loss: 0.4268 - val_loss: 0.4055\n",
      "Epoch 72/100\n",
      "767/767 [==============================] - 2s 2ms/step - loss: 0.4267 - val_loss: 0.4082\n",
      "Epoch 73/100\n",
      "767/767 [==============================] - 2s 2ms/step - loss: 0.4262 - val_loss: 0.4089\n",
      "Epoch 74/100\n",
      "767/767 [==============================] - 2s 2ms/step - loss: 0.4268 - val_loss: 0.4071\n",
      "Epoch 75/100\n",
      "767/767 [==============================] - 2s 2ms/step - loss: 0.4265 - val_loss: 0.4058\n",
      "Epoch 76/100\n",
      "767/767 [==============================] - 2s 2ms/step - loss: 0.4269 - val_loss: 0.4069\n",
      "Epoch 77/100\n",
      "767/767 [==============================] - 2s 2ms/step - loss: 0.4264 - val_loss: 0.4059\n",
      "Epoch 78/100\n",
      "767/767 [==============================] - 2s 2ms/step - loss: 0.4263 - val_loss: 0.4078\n",
      "Epoch 79/100\n",
      "767/767 [==============================] - 2s 2ms/step - loss: 0.4267 - val_loss: 0.4070\n",
      "Epoch 80/100\n",
      "767/767 [==============================] - 2s 2ms/step - loss: 0.4264 - val_loss: 0.4065\n",
      "Epoch 81/100\n",
      "767/767 [==============================] - 2s 2ms/step - loss: 0.4263 - val_loss: 0.4077\n",
      "Epoch 82/100\n",
      "767/767 [==============================] - 2s 2ms/step - loss: 0.4265 - val_loss: 0.4077\n",
      "Epoch 83/100\n",
      "767/767 [==============================] - 2s 2ms/step - loss: 0.4264 - val_loss: 0.4061\n",
      "Epoch 84/100\n",
      "767/767 [==============================] - 2s 2ms/step - loss: 0.4260 - val_loss: 0.4061\n",
      "Epoch 85/100\n",
      "767/767 [==============================] - 2s 3ms/step - loss: 0.4256 - val_loss: 0.4051\n",
      "Epoch 86/100\n",
      "767/767 [==============================] - 2s 2ms/step - loss: 0.4260 - val_loss: 0.4060\n",
      "Epoch 87/100\n",
      "767/767 [==============================] - 2s 2ms/step - loss: 0.4261 - val_loss: 0.4068\n",
      "Epoch 88/100\n",
      "767/767 [==============================] - 2s 2ms/step - loss: 0.4266 - val_loss: 0.4058\n",
      "Epoch 89/100\n",
      "767/767 [==============================] - 2s 3ms/step - loss: 0.4264 - val_loss: 0.4073\n",
      "Epoch 90/100\n",
      "767/767 [==============================] - 2s 2ms/step - loss: 0.4261 - val_loss: 0.4058\n",
      "Epoch 91/100\n",
      "767/767 [==============================] - 2s 2ms/step - loss: 0.4262 - val_loss: 0.4060\n",
      "Epoch 92/100\n",
      "767/767 [==============================] - 2s 2ms/step - loss: 0.4255 - val_loss: 0.4061\n",
      "Epoch 93/100\n",
      "767/767 [==============================] - 2s 3ms/step - loss: 0.4262 - val_loss: 0.4048\n",
      "Epoch 94/100\n",
      "767/767 [==============================] - 2s 2ms/step - loss: 0.4262 - val_loss: 0.4092\n",
      "Epoch 95/100\n",
      "767/767 [==============================] - 2s 2ms/step - loss: 0.4258 - val_loss: 0.4066\n",
      "Epoch 96/100\n",
      "767/767 [==============================] - 2s 2ms/step - loss: 0.4257 - val_loss: 0.4071\n",
      "Epoch 97/100\n",
      "767/767 [==============================] - 2s 2ms/step - loss: 0.4266 - val_loss: 0.4073\n",
      "Epoch 98/100\n",
      "767/767 [==============================] - 2s 2ms/step - loss: 0.4262 - val_loss: 0.4085\n",
      "Epoch 99/100\n",
      "767/767 [==============================] - 2s 2ms/step - loss: 0.4261 - val_loss: 0.4079\n",
      "Epoch 100/100\n",
      "767/767 [==============================] - 2s 2ms/step - loss: 0.4255 - val_loss: 0.4065\n"
     ]
    }
   ],
   "source": [
    "history = model.fit(X_train,y_train,validation_data=(X_test,y_test),epochs=100)"
   ]
  },
  {
   "cell_type": "code",
   "execution_count": 73,
   "id": "bb41e72a",
   "metadata": {
    "execution": {
     "iopub.execute_input": "2023-01-25T00:27:53.202849Z",
     "iopub.status.busy": "2023-01-25T00:27:53.202102Z",
     "iopub.status.idle": "2023-01-25T00:27:53.208412Z",
     "shell.execute_reply": "2023-01-25T00:27:53.206924Z"
    },
    "papermill": {
     "duration": 0.237233,
     "end_time": "2023-01-25T00:27:53.211250",
     "exception": false,
     "start_time": "2023-01-25T00:27:52.974017",
     "status": "completed"
    },
    "tags": []
   },
   "outputs": [],
   "source": [
    "losses=pd.DataFrame(model.history.history)"
   ]
  },
  {
   "cell_type": "code",
   "execution_count": 74,
   "id": "a8eadc0e",
   "metadata": {
    "execution": {
     "iopub.execute_input": "2023-01-25T00:27:53.658666Z",
     "iopub.status.busy": "2023-01-25T00:27:53.657998Z",
     "iopub.status.idle": "2023-01-25T00:27:53.897172Z",
     "shell.execute_reply": "2023-01-25T00:27:53.895633Z"
    },
    "papermill": {
     "duration": 0.473428,
     "end_time": "2023-01-25T00:27:53.900508",
     "exception": false,
     "start_time": "2023-01-25T00:27:53.427080",
     "status": "completed"
    },
    "tags": []
   },
   "outputs": [
    {
     "data": {
      "text/plain": [
       "<AxesSubplot:>"
      ]
     },
     "execution_count": 74,
     "metadata": {},
     "output_type": "execute_result"
    },
    {
     "data": {
      "image/png": "[encoded data removed]",
      "text/plain": [
       "<Figure size 432x288 with 1 Axes>"
      ]
     },
     "metadata": {
      "needs_background": "light"
     },
     "output_type": "display_data"
    }
   ],
   "source": [
    "losses.plot()"
   ]
  },
  {
   "cell_type": "code",
   "execution_count": 75,
   "id": "6212149a",
   "metadata": {
    "execution": {
     "iopub.execute_input": "2023-01-25T00:27:54.335807Z",
     "iopub.status.busy": "2023-01-25T00:27:54.335279Z",
     "iopub.status.idle": "2023-01-25T00:27:54.692560Z",
     "shell.execute_reply": "2023-01-25T00:27:54.690956Z"
    },
    "papermill": {
     "duration": 0.578288,
     "end_time": "2023-01-25T00:27:54.695606",
     "exception": false,
     "start_time": "2023-01-25T00:27:54.117318",
     "status": "completed"
    },
    "tags": []
   },
   "outputs": [
    {
     "name": "stdout",
     "output_type": "stream",
     "text": [
      "192/192 [==============================] - 0s 1ms/step - loss: 0.4065\n",
      "0.4065147936344147\n"
     ]
    }
   ],
   "source": [
    "print(model.evaluate(X_test, y_test))"
   ]
  },
  {
   "cell_type": "code",
   "execution_count": null,
   "id": "e1251b1b",
   "metadata": {
    "papermill": {
     "duration": 0.290457,
     "end_time": "2023-01-25T00:27:55.211476",
     "exception": false,
     "start_time": "2023-01-25T00:27:54.921019",
     "status": "completed"
    },
    "tags": []
   },
   "outputs": [],
   "source": []
  }
 ],
 "metadata": {
  "kernelspec": {
   "display_name": "Python 3",
   "language": "python",
   "name": "python3"
  },
  "language_info": {
   "codemirror_mode": {
    "name": "ipython",
    "version": 3
   },
   "file_extension": ".py",
   "mimetype": "text/x-python",
   "name": "python",
   "nbconvert_exporter": "python",
   "pygments_lexer": "ipython3",
   "version": "3.7.12"
  },
  "papermill": {
   "default_parameters": {},
   "duration": 307.67358,
   "end_time": "2023-01-25T00:27:58.640259",
   "environment_variables": {},
   "exception": null,
   "input_path": "__notebook__.ipynb",
   "output_path": "__notebook__.ipynb",
   "parameters": {},
   "start_time": "2023-01-25T00:22:50.966679",
   "version": "2.3.4"
  }
 },
 "nbformat": 4,
 "nbformat_minor": 5
}
